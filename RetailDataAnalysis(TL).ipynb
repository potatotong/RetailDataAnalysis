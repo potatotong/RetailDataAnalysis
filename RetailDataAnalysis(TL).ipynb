{
 "cells": [
  {
   "cell_type": "markdown",
   "id": "b55e2f7b-f346-44f4-9553-b8cd9ccd9be7",
   "metadata": {},
   "source": [
    "## Retail Data Analysis on Demographic and Spending Trends"
   ]
  },
  {
   "cell_type": "markdown",
   "id": "e1fcd018-3dba-4f15-948a-f8c35eb3ee89",
   "metadata": {},
   "source": [
    "After taking my very first economics course in my first semester of university, I developed an itch to apply what I had learn in class to the real world. In highschool, I had written research papers on subjects such as math, biology, chemistry and history, but never economics. As result, over the winter break, I found a dataset of US retail data on [kaggle.com](https://www.kaggle.com/datasets/abdurraziq01/retail-data/data), posted by Abdur Raziq Khan. This project will aim to process, visualize, analyze, and explain the data found in Khan's dataset using MySQL and Python. Specifically, the SQLAlchemy, Pandas, Matplotlib, Numpy, Seaborn, Plotly, and Geopandas libraries will be used to aid in analysis and visualization.\n",
    "Feel free to access the data through the link and follow along. The bulk of my data processing will be done in MySQL, using databases and various tables.<br> Below, I am establishing a connection to the MySQL database, allowing me to create Pandas dataframes here on Jupyter Notebook and visualize the data using Matplotlib."
   ]
  },
  {
   "cell_type": "code",
   "execution_count": 40,
   "id": "a47cb308-79fd-4aff-845d-d25d5ec7fd9a",
   "metadata": {},
   "outputs": [
    {
     "name": "stdout",
     "output_type": "stream",
     "text": [
      "Connected to MySQL database using SQLAlchemy\n"
     ]
    },
    {
     "data": {
      "text/html": [
       "<div>\n",
       "<style scoped>\n",
       "    .dataframe tbody tr th:only-of-type {\n",
       "        vertical-align: middle;\n",
       "    }\n",
       "\n",
       "    .dataframe tbody tr th {\n",
       "        vertical-align: top;\n",
       "    }\n",
       "\n",
       "    .dataframe thead th {\n",
       "        text-align: right;\n",
       "    }\n",
       "</style>\n",
       "<table border=\"1\" class=\"dataframe\">\n",
       "  <thead>\n",
       "    <tr style=\"text-align: right;\">\n",
       "      <th></th>\n",
       "      <th>CustomerID</th>\n",
       "      <th>Age</th>\n",
       "      <th>Gender</th>\n",
       "      <th>AnnualIncome</th>\n",
       "      <th>SpendingScore</th>\n",
       "      <th>ProductCategory</th>\n",
       "      <th>ProductPrice</th>\n",
       "      <th>PurchaseDate</th>\n",
       "      <th>StoreID</th>\n",
       "      <th>StoreLocation</th>\n",
       "      <th>PaymentMethod</th>\n",
       "      <th>DiscountApplied</th>\n",
       "      <th>DiscountPercent</th>\n",
       "      <th>ProductCost</th>\n",
       "      <th>Profit</th>\n",
       "      <th>FootTraffic</th>\n",
       "      <th>InventoryLevel</th>\n",
       "      <th>MarketingExpenditure</th>\n",
       "      <th>CompetitorPrice</th>\n",
       "    </tr>\n",
       "  </thead>\n",
       "  <tbody>\n",
       "    <tr>\n",
       "      <th>0</th>\n",
       "      <td>1</td>\n",
       "      <td>58</td>\n",
       "      <td>Male</td>\n",
       "      <td>60038</td>\n",
       "      <td>41</td>\n",
       "      <td>Health &amp; Beauty</td>\n",
       "      <td>147.43</td>\n",
       "      <td>2022-06-11</td>\n",
       "      <td>46</td>\n",
       "      <td>San Jose</td>\n",
       "      <td>Credit Card</td>\n",
       "      <td>1.0</td>\n",
       "      <td>26</td>\n",
       "      <td>109.10</td>\n",
       "      <td>38.33</td>\n",
       "      <td>336</td>\n",
       "      <td>26</td>\n",
       "      <td>9107.90</td>\n",
       "      <td>171.55</td>\n",
       "    </tr>\n",
       "    <tr>\n",
       "      <th>1</th>\n",
       "      <td>2</td>\n",
       "      <td>57</td>\n",
       "      <td>Male</td>\n",
       "      <td>31577</td>\n",
       "      <td>91</td>\n",
       "      <td>Health &amp; Beauty</td>\n",
       "      <td>402.09</td>\n",
       "      <td>2023-06-05</td>\n",
       "      <td>53</td>\n",
       "      <td>Los Angeles</td>\n",
       "      <td>Mobile Payment</td>\n",
       "      <td>1.0</td>\n",
       "      <td>1</td>\n",
       "      <td>398.07</td>\n",
       "      <td>4.02</td>\n",
       "      <td>491</td>\n",
       "      <td>32</td>\n",
       "      <td>1746.77</td>\n",
       "      <td>419.19</td>\n",
       "    </tr>\n",
       "    <tr>\n",
       "      <th>2</th>\n",
       "      <td>3</td>\n",
       "      <td>39</td>\n",
       "      <td>Female</td>\n",
       "      <td>117404</td>\n",
       "      <td>26</td>\n",
       "      <td>Groceries</td>\n",
       "      <td>958.45</td>\n",
       "      <td>2020-10-14</td>\n",
       "      <td>95</td>\n",
       "      <td>Philadelphia</td>\n",
       "      <td>Mobile Payment</td>\n",
       "      <td>0.0</td>\n",
       "      <td>0</td>\n",
       "      <td>958.45</td>\n",
       "      <td>0.00</td>\n",
       "      <td>157</td>\n",
       "      <td>3</td>\n",
       "      <td>2030.49</td>\n",
       "      <td>835.92</td>\n",
       "    </tr>\n",
       "    <tr>\n",
       "      <th>3</th>\n",
       "      <td>4</td>\n",
       "      <td>33</td>\n",
       "      <td>Male</td>\n",
       "      <td>87434</td>\n",
       "      <td>94</td>\n",
       "      <td>Electronics</td>\n",
       "      <td>544.17</td>\n",
       "      <td>2021-08-27</td>\n",
       "      <td>24</td>\n",
       "      <td>Dallas</td>\n",
       "      <td>Credit Card</td>\n",
       "      <td>0.0</td>\n",
       "      <td>0</td>\n",
       "      <td>544.17</td>\n",
       "      <td>0.00</td>\n",
       "      <td>223</td>\n",
       "      <td>87</td>\n",
       "      <td>6242.68</td>\n",
       "      <td>620.36</td>\n",
       "    </tr>\n",
       "    <tr>\n",
       "      <th>4</th>\n",
       "      <td>5</td>\n",
       "      <td>18</td>\n",
       "      <td>Male</td>\n",
       "      <td>90225</td>\n",
       "      <td>10</td>\n",
       "      <td>Health &amp; Beauty</td>\n",
       "      <td>645.75</td>\n",
       "      <td>2023-06-06</td>\n",
       "      <td>2</td>\n",
       "      <td>San Antonio</td>\n",
       "      <td>Credit Card</td>\n",
       "      <td>0.0</td>\n",
       "      <td>0</td>\n",
       "      <td>645.75</td>\n",
       "      <td>0.00</td>\n",
       "      <td>315</td>\n",
       "      <td>8</td>\n",
       "      <td>6008.89</td>\n",
       "      <td>600.49</td>\n",
       "    </tr>\n",
       "  </tbody>\n",
       "</table>\n",
       "</div>"
      ],
      "text/plain": [
       "   CustomerID  Age  Gender  AnnualIncome  SpendingScore  ProductCategory  \\\n",
       "0           1   58    Male         60038             41  Health & Beauty   \n",
       "1           2   57    Male         31577             91  Health & Beauty   \n",
       "2           3   39  Female        117404             26        Groceries   \n",
       "3           4   33    Male         87434             94      Electronics   \n",
       "4           5   18    Male         90225             10  Health & Beauty   \n",
       "\n",
       "   ProductPrice PurchaseDate  StoreID StoreLocation   PaymentMethod  \\\n",
       "0        147.43   2022-06-11       46      San Jose     Credit Card   \n",
       "1        402.09   2023-06-05       53   Los Angeles  Mobile Payment   \n",
       "2        958.45   2020-10-14       95  Philadelphia  Mobile Payment   \n",
       "3        544.17   2021-08-27       24        Dallas     Credit Card   \n",
       "4        645.75   2023-06-06        2   San Antonio     Credit Card   \n",
       "\n",
       "   DiscountApplied  DiscountPercent  ProductCost  Profit  FootTraffic  \\\n",
       "0              1.0               26       109.10   38.33          336   \n",
       "1              1.0                1       398.07    4.02          491   \n",
       "2              0.0                0       958.45    0.00          157   \n",
       "3              0.0                0       544.17    0.00          223   \n",
       "4              0.0                0       645.75    0.00          315   \n",
       "\n",
       "   InventoryLevel  MarketingExpenditure  CompetitorPrice  \n",
       "0              26               9107.90           171.55  \n",
       "1              32               1746.77           419.19  \n",
       "2               3               2030.49           835.92  \n",
       "3              87               6242.68           620.36  \n",
       "4               8               6008.89           600.49  "
      ]
     },
     "execution_count": 40,
     "metadata": {},
     "output_type": "execute_result"
    }
   ],
   "source": [
    "from sqlalchemy import create_engine, text\n",
    "from dotenv import load_dotenv\n",
    "import os\n",
    "import pandas as pd\n",
    "import matplotlib.pyplot as plt\n",
    "import numpy as np\n",
    "import seaborn as sns\n",
    "import plotly.express as px\n",
    "import geopandas as gpd\n",
    "\n",
    "\n",
    "load_dotenv('SQLinformation.env')\n",
    "\n",
    "db_host = os.getenv(\"MYSQL_HOST\")\n",
    "db_user = os.getenv(\"MYSQL_USER\")\n",
    "db_password = os.getenv(\"MYSQL_PASSWORD\")\n",
    "db_name = os.getenv(\"MYSQL_DATABASE\")\n",
    "\n",
    "# creating an engine to interact with the database\n",
    "engine = create_engine(f\"mysql+mysqlconnector://{db_user}:{db_password}@{db_host}/{db_name}\")\n",
    "\n",
    "# establishing connection with MySQL database\n",
    "try:\n",
    "    with engine.connect() as connection:\n",
    "        print(\"Connected to MySQL database using SQLAlchemy\")\n",
    "except Exception as e:\n",
    "    print(\"Error while connecting to MySQL:\", e)\n",
    "\n",
    "query = \"SELECT * FROM retail_data\"\n",
    "retail_df = pd.read_sql(query, engine)\n",
    "retail_df.head()        # displays the first 5 rows of the retail_df data frame"
   ]
  },
  {
   "cell_type": "markdown",
   "id": "689373d5-d710-467b-a826-74ee93a2bcad",
   "metadata": {},
   "source": [
    "Let's start our analysis by looking at the three categories that are typically considered when we explore relationships with money: Age, AnnualIncome, and SpendingScore. For each of my analyses, I will create a new table in MySQL, load the data into a Pandas dataframe, and use Matplotlib & other libraries on Jupyter Notebook to visualize the data. The main reason behind creating unique MySQL tables is because sometimes the data needs to be altered/aggregated before analysis (i.e average price, total income), and it's easier to have everything on one MySQL database so I can see everything with a click of my mouse.\n",
    "<br>The code below demonstrates the process of loading data from the newly created <b>WealthByAge</b> table on MySQL to a <b>Pandas dataframe</b> and <b>plotting it with Matplotlib</b>:"
   ]
  },
  {
   "cell_type": "code",
   "execution_count": 16,
   "id": "da588f33-6e41-48be-bfe2-d62bb0618d74",
   "metadata": {},
   "outputs": [
    {
     "data": {
      "text/html": [
       "<div>\n",
       "<style scoped>\n",
       "    .dataframe tbody tr th:only-of-type {\n",
       "        vertical-align: middle;\n",
       "    }\n",
       "\n",
       "    .dataframe tbody tr th {\n",
       "        vertical-align: top;\n",
       "    }\n",
       "\n",
       "    .dataframe thead th {\n",
       "        text-align: right;\n",
       "    }\n",
       "</style>\n",
       "<table border=\"1\" class=\"dataframe\">\n",
       "  <thead>\n",
       "    <tr style=\"text-align: right;\">\n",
       "      <th></th>\n",
       "      <th>Age</th>\n",
       "      <th>AvgIncome</th>\n",
       "      <th>AvgSpendingScore</th>\n",
       "    </tr>\n",
       "  </thead>\n",
       "  <tbody>\n",
       "    <tr>\n",
       "      <th>0</th>\n",
       "      <td>18</td>\n",
       "      <td>86471.6634</td>\n",
       "      <td>50.5134</td>\n",
       "    </tr>\n",
       "    <tr>\n",
       "      <th>1</th>\n",
       "      <td>19</td>\n",
       "      <td>84943.5151</td>\n",
       "      <td>50.9835</td>\n",
       "    </tr>\n",
       "    <tr>\n",
       "      <th>2</th>\n",
       "      <td>20</td>\n",
       "      <td>83377.0000</td>\n",
       "      <td>51.3843</td>\n",
       "    </tr>\n",
       "    <tr>\n",
       "      <th>3</th>\n",
       "      <td>21</td>\n",
       "      <td>84595.7318</td>\n",
       "      <td>52.1596</td>\n",
       "    </tr>\n",
       "    <tr>\n",
       "      <th>4</th>\n",
       "      <td>22</td>\n",
       "      <td>86864.7089</td>\n",
       "      <td>49.9761</td>\n",
       "    </tr>\n",
       "  </tbody>\n",
       "</table>\n",
       "</div>"
      ],
      "text/plain": [
       "   Age   AvgIncome  AvgSpendingScore\n",
       "0   18  86471.6634           50.5134\n",
       "1   19  84943.5151           50.9835\n",
       "2   20  83377.0000           51.3843\n",
       "3   21  84595.7318           52.1596\n",
       "4   22  86864.7089           49.9761"
      ]
     },
     "execution_count": 16,
     "metadata": {},
     "output_type": "execute_result"
    }
   ],
   "source": [
    "query = \"SELECT * FROM WealthByAge\"\n",
    "wealthbyage_df = pd.read_sql(query, engine)\n",
    "wealthbyage_df.head()"
   ]
  },
  {
   "cell_type": "code",
   "execution_count": 76,
   "id": "c4701fc9-5ea3-48a9-b5d9-374949c4fb96",
   "metadata": {},
   "outputs": [
    {
     "data": {
      "image/png": "[encoded data removed]",
      "text/plain": [
       "<Figure size 1000x600 with 1 Axes>"
      ]
     },
     "metadata": {},
     "output_type": "display_data"
    }
   ],
   "source": [
    "plt.figure(figsize=(10, 6))\n",
    "plt.plot(wealthbyage_df[\"Age\"], wealthbyage_df[\"AvgIncome\"], marker='o', linestyle='-',color='b', label=\"Avg Annual Income\")\n",
    "\n",
    "# Titles and labels\n",
    "plt.title(\"Average Annual Income By Age\", fontsize=12)\n",
    "plt.ylabel(\"Average Annual Income (USD)\", fontsize=12)\n",
    "plt.xlabel(\"Age\", fontsize=12)\n",
    "plt.grid(alpha=0.3)\n",
    "plt.legend()\n",
    "plt.show()"
   ]
  },
  {
   "cell_type": "markdown",
   "id": "02002cec-bef7-4c0a-b038-9e731f8008e7",
   "metadata": {},
   "source": [
    "From the graph alone, it is hard to determine any type of trend between Age and Average Annual Income. Average annual income seems to rise and fall periodically. The graph does tell us that Average Annual Income reaches a minimum of around \\\\$82,000 around 65, at least in this data set. On the other hand, the maximum Average Annual Income of the dataset occurs around the 42-49 age range, at an income of around \\\\$87,000. \n",
    "<br>Although we are able to deduce the maximum and minimum Average Annual Incomes of each age group, this graph is not very useful at detecting other trends. Thus, let's implement a mathematical concept known as a \"rolling average\". Rolling averages update the averages of a data set to include data in the set up until a specific point ([IBM](https://www.ibm.com/docs/el/cognos-analytics/11.1.0?topic=dimensionally-rolling-moving-averages)). For example, say you had 100 rows of data. Your first average could be the average of rows 1-5, then the next average would be of rows 2-6 etc, etc. \n",
    "<br>The rolling averages of annual income per age group were calculated in MySQL, using five rows at a time, and displayed below:"
   ]
  },
  {
   "cell_type": "code",
   "execution_count": 19,
   "id": "d338dc97-b5db-42bd-94a7-4c70de159c07",
   "metadata": {},
   "outputs": [
    {
     "data": {
      "text/html": [
       "<div>\n",
       "<style scoped>\n",
       "    .dataframe tbody tr th:only-of-type {\n",
       "        vertical-align: middle;\n",
       "    }\n",
       "\n",
       "    .dataframe tbody tr th {\n",
       "        vertical-align: top;\n",
       "    }\n",
       "\n",
       "    .dataframe thead th {\n",
       "        text-align: right;\n",
       "    }\n",
       "</style>\n",
       "<table border=\"1\" class=\"dataframe\">\n",
       "  <thead>\n",
       "    <tr style=\"text-align: right;\">\n",
       "      <th></th>\n",
       "      <th>Age</th>\n",
       "      <th>AvgAnnualIncome</th>\n",
       "      <th>RollingAvgIncome</th>\n",
       "    </tr>\n",
       "  </thead>\n",
       "  <tbody>\n",
       "    <tr>\n",
       "      <th>0</th>\n",
       "      <td>18</td>\n",
       "      <td>86471.6634</td>\n",
       "      <td>86471.663400</td>\n",
       "    </tr>\n",
       "    <tr>\n",
       "      <th>1</th>\n",
       "      <td>19</td>\n",
       "      <td>84943.5151</td>\n",
       "      <td>85707.589250</td>\n",
       "    </tr>\n",
       "    <tr>\n",
       "      <th>2</th>\n",
       "      <td>20</td>\n",
       "      <td>83377.0000</td>\n",
       "      <td>84930.726167</td>\n",
       "    </tr>\n",
       "    <tr>\n",
       "      <th>3</th>\n",
       "      <td>21</td>\n",
       "      <td>84595.7318</td>\n",
       "      <td>84846.977575</td>\n",
       "    </tr>\n",
       "    <tr>\n",
       "      <th>4</th>\n",
       "      <td>22</td>\n",
       "      <td>86864.7089</td>\n",
       "      <td>85250.523840</td>\n",
       "    </tr>\n",
       "  </tbody>\n",
       "</table>\n",
       "</div>"
      ],
      "text/plain": [
       "   Age  AvgAnnualIncome  RollingAvgIncome\n",
       "0   18       86471.6634      86471.663400\n",
       "1   19       84943.5151      85707.589250\n",
       "2   20       83377.0000      84930.726167\n",
       "3   21       84595.7318      84846.977575\n",
       "4   22       86864.7089      85250.523840"
      ]
     },
     "execution_count": 19,
     "metadata": {},
     "output_type": "execute_result"
    }
   ],
   "source": [
    "query = \"SELECT * FROM RollingAvgIncomeByAge\"\n",
    "rollingincome_df = pd.read_sql(query, engine)\n",
    "rollingincome_df.head()"
   ]
  },
  {
   "cell_type": "markdown",
   "id": "0aca4e5e-67bd-4cd1-b6aa-4b4f424fcaef",
   "metadata": {},
   "source": [
    "It's subtle, but we can already notice a difference in the numbers in the AvgAnnualIncome and RollingAvgIncome columns. Let's graph the numbers to visually understand the differences, and uncover any previously hidden trends."
   ]
  },
  {
   "cell_type": "code",
   "execution_count": 77,
   "id": "06185ff8-86a5-4a0e-bce9-f9840af1480e",
   "metadata": {},
   "outputs": [
    {
     "data": {
      "image/png": "[encoded data removed]",
      "text/plain": [
       "<Figure size 1000x600 with 1 Axes>"
      ]
     },
     "metadata": {},
     "output_type": "display_data"
    }
   ],
   "source": [
    "plt.figure(figsize=(10, 6))\n",
    "plt.plot(rollingincome_df[\"Age\"], rollingincome_df[\"RollingAvgIncome\"], marker='o', linestyle='-',color='b', label=\"Rolling Avg Income\")\n",
    "\n",
    "# Titles and labels\n",
    "plt.title(\"Rolling Average Annual Income By Age\", fontsize=12)\n",
    "plt.ylabel(\"Rolling Average Annual Income (USD)\", fontsize=12)\n",
    "plt.xlabel(\"Age\", fontsize=12)\n",
    "plt.grid(alpha=0.3)\n",
    "plt.legend()\n",
    "plt.show()"
   ]
  },
  {
   "cell_type": "markdown",
   "id": "ef4032d4-1066-402c-807f-d958815ed69a",
   "metadata": {},
   "source": [
    "Right off the bat, this graph is much more visually informative than the previous one! We can see three major trends here. First, (rolling) average annual income displays a decreasing trend from ages 20-40. Then, at mid-life, on average, American households will experience an increase in average annual income. However, their increase starts to wane off as Americans enter their senior years, where they experience another decrease in average annual income until around 65. There are a few possible explanations for these trends:\n",
    "1. <b>Ages 20-40</b>\n",
    "<br>At these ages, many Americans could be focusing on their education or families. As a result, it's possible that many of them are not in the work force, or working at low-paying/entry-level jobs. \n",
    "2. <b>Ages 40-55</b>\n",
    "<br>The increase seen in ages 40-55 could be because Americans of this age range are now starting to settle into their jobs. Many of them may have reached senior/managerial high level jobs, increasing their annual income.\n",
    "3. <b>Ages 55-65</b>\n",
    "<br>From ages 55-65, factors like health issues and retirement could be decreasing the income of individuals, forcing them to work lower paying jobs/not work at all.\n",
    "\n",
    "<br> Through the use of rolling averages, we were able to uncover this interesting relationship between age and annual income. Since this dataset describes US retail data, let's take a closer look at the actual locations of the data. Using MySQL, we can isolate the StoreLocation column on the retail_data dataset. At the same time, we create a lookup table with each of cities found in retail_data and the abbreviation of the state they belong to. Then, using a JOIN, we can replace all the cities with their state abbreviations. This will come in handy soon. Moving to Jupyter Notebook, we can load the data into a dataframe and create a table with the frequencies of each state, as shown below."
   ]
  },
  {
   "cell_type": "code",
   "execution_count": 47,
   "id": "0d05e654-a50d-4a35-aa88-91eb733073b1",
   "metadata": {},
   "outputs": [
    {
     "name": "stdout",
     "output_type": "stream",
     "text": [
      "  State  Frequency\n",
      "0    CA      11685\n",
      "1    TX      11403\n",
      "2    AZ       3887\n",
      "3    IL       3781\n",
      "4    PA       3767\n",
      "5    NY       3690\n"
     ]
    }
   ],
   "source": [
    "query = \"SELECT StoreLocation FROM store_locations\"\n",
    "location_df = pd.read_sql(query, engine)\n",
    "state_count = location_df['StoreLocation'].value_counts().reset_index()\n",
    "state_count.columns = ['State', 'Frequency']\n",
    "print(state_count)"
   ]
  },
  {
   "cell_type": "markdown",
   "id": "cae54ca1-5aa1-4dd1-8d84-1f32c861a88e",
   "metadata": {},
   "source": [
    "Since we don't have exact coordinates of the purchases, we can use Plotly to make a \"choropleth map\". A choropleth map uses differences in shading/colour to represent different properties/values of those areas (Oxford Languages). In the figure above, we were able to aggregate the frequencies of each state, which is what we will show with colour changes on our choropleth map. The [geojson file](https://www.kaggle.com/datasets/pompelmo/usa-states-geojson/data) I'm using has been downloaded from Kaggle. This file has geographic information that defines the boundaries of the US states, which will be helpful when we merge the frequencies table with the geographic table. This creates a new table with state abbreviation, state name, geographical information, and frequency all together. All that's left to do after that is to plot the choropleth map with plotly!"
   ]
  },
  {
   "cell_type": "code",
   "execution_count": 50,
   "id": "6f52a7f6-ef80-40c7-877f-cf6eb6d5fbf0",
   "metadata": {},
   "outputs": [
    {
     "name": "stdout",
     "output_type": "stream",
     "text": [
      "   id        name                                           geometry\n",
      "0  AL     Alabama  POLYGON ((-87.3593 35.00118, -85.60668 34.9847...\n",
      "1  AK      Alaska  MULTIPOLYGON (((-131.60202 55.11798, -131.5691...\n",
      "2  AZ     Arizona  POLYGON ((-109.0425 37.00026, -109.04798 31.33...\n",
      "3  AR    Arkansas  POLYGON ((-94.47384 36.50186, -90.15254 36.496...\n",
      "4  CA  California  POLYGON ((-123.23326 42.00619, -122.37885 42.0...\n"
     ]
    }
   ],
   "source": [
    "us_states = gpd.read_file('us-states.json')\n",
    "print(us_states.head())"
   ]
  },
  {
   "cell_type": "code",
   "execution_count": 56,
   "id": "ec134b54-8545-414b-a5d4-537bc3229971",
   "metadata": {},
   "outputs": [
    {
     "name": "stdout",
     "output_type": "stream",
     "text": [
      "            name                                           geometry  Frequency\n",
      "id                                                                            \n",
      "AZ       Arizona  POLYGON ((-109.0425 37.00026, -109.04798 31.33...     3887.0\n",
      "CA    California  POLYGON ((-123.23326 42.00619, -122.37885 42.0...    11685.0\n",
      "IL      Illinois  POLYGON ((-90.63998 42.51006, -88.78878 42.493...     3781.0\n",
      "NY      New York  POLYGON ((-73.34381 45.01303, -73.33285 44.804...     3690.0\n",
      "PA  Pennsylvania  POLYGON ((-79.76278 42.25265, -79.76278 42.000...     3767.0\n",
      "TX         Texas  POLYGON ((-101.81294 36.50186, -100.00008 36.5...    11403.0\n"
     ]
    }
   ],
   "source": [
    "merged = us_states.set_index('id').join(state_count.set_index('State'))\n",
    "clean_merged = merged.dropna(subset=['Frequency'])\n",
    "print(clean_merged.head(6))"
   ]
  },
  {
   "cell_type": "code",
   "execution_count": 71,
   "id": "0d500cd3-dd08-46a0-9e20-99574b37a9f7",
   "metadata": {},
   "outputs": [
    {
     "data": {
      "application/vnd.plotly.v1+json": {
       "config": {
        "plotlyServerURL": "https://plot.ly"
       },
       "data": [
        {
         "coloraxis": "coloraxis",
         "geo": "geo",
         "geojson": {
          "bbox": [
           -124.410798,
           25.887551,
           -72.100541,
           45.018503
          ],
          "features": [
           {
            "bbox": [
             -114.815198,
             31.331629,
             -109.042503,
             37.00574
            ],
            "geometry": {
             "coordinates": [
              [
               [
                -109.042503,
                37.000263
               ],
               [
                -109.04798,
                31.331629
               ],
               [
                -111.074448,
                31.331629
               ],
               [
                -112.246513,
                31.704061
               ],
               [
                -114.815198,
                32.492741
               ],
               [
                -114.72209,
                32.717295
               ],
               [
                -114.524921,
                32.755634
               ],
               [
                -114.470151,
                32.843265
               ],
               [
                -114.524921,
                33.029481
               ],
               [
                -114.661844,
                33.034958
               ],
               [
                -114.727567,
                33.40739
               ],
               [
                -114.524921,
                33.54979
               ],
               [
                -114.497536,
                33.697668
               ],
               [
                -114.535874,
                33.933176
               ],
               [
                -114.415382,
                34.108438
               ],
               [
                -114.256551,
                34.174162
               ],
               [
                -114.136058,
                34.305608
               ],
               [
                -114.333228,
                34.448009
               ],
               [
                -114.470151,
                34.710902
               ],
               [
                -114.634459,
                34.87521
               ],
               [
                -114.634459,
                35.00118
               ],
               [
                -114.574213,
                35.138103
               ],
               [
                -114.596121,
                35.324319
               ],
               [
                -114.678275,
                35.516012
               ],
               [
                -114.738521,
                36.102045
               ],
               [
                -114.371566,
                36.140383
               ],
               [
                -114.251074,
                36.01989
               ],
               [
                -114.152489,
                36.025367
               ],
               [
                -114.048427,
                36.195153
               ],
               [
                -114.048427,
                37.000263
               ],
               [
                -110.499369,
                37.00574
               ],
               [
                -109.042503,
                37.000263
               ]
              ]
             ],
             "type": "Polygon"
            },
            "id": "AZ",
            "properties": {},
            "type": "Feature"
           },
           {
            "bbox": [
             -124.410798,
             32.536556,
             -114.136058,
             42.011663
            ],
            "geometry": {
             "coordinates": [
              [
               [
                -123.233256,
                42.006186
               ],
               [
                -122.378853,
                42.011663
               ],
               [
                -121.037003,
                41.995232
               ],
               [
                -120.001861,
                41.995232
               ],
               [
                -119.996384,
                40.264519
               ],
               [
                -120.001861,
                38.999346
               ],
               [
                -118.71478,
                38.101128
               ],
               [
                -117.498899,
                37.21934
               ],
               [
                -116.540435,
                36.501861
               ],
               [
                -115.85034,
                35.970598
               ],
               [
                -114.634459,
                35.00118
               ],
               [
                -114.634459,
                34.87521
               ],
               [
                -114.470151,
                34.710902
               ],
               [
                -114.333228,
                34.448009
               ],
               [
                -114.136058,
                34.305608
               ],
               [
                -114.256551,
                34.174162
               ],
               [
                -114.415382,
                34.108438
               ],
               [
                -114.535874,
                33.933176
               ],
               [
                -114.497536,
                33.697668
               ],
               [
                -114.524921,
                33.54979
               ],
               [
                -114.727567,
                33.40739
               ],
               [
                -114.661844,
                33.034958
               ],
               [
                -114.524921,
                33.029481
               ],
               [
                -114.470151,
                32.843265
               ],
               [
                -114.524921,
                32.755634
               ],
               [
                -114.72209,
                32.717295
               ],
               [
                -116.04751,
                32.624187
               ],
               [
                -117.126467,
                32.536556
               ],
               [
                -117.24696,
                32.668003
               ],
               [
                -117.252437,
                32.876127
               ],
               [
                -117.329114,
                33.122589
               ],
               [
                -117.471515,
                33.297851
               ],
               [
                -117.7837,
                33.538836
               ],
               [
                -118.183517,
                33.763391
               ],
               [
                -118.260194,
                33.703145
               ],
               [
                -118.413548,
                33.741483
               ],
               [
                -118.391641,
                33.840068
               ],
               [
                -118.566903,
                34.042715
               ],
               [
                -118.802411,
                33.998899
               ],
               [
                -119.218659,
                34.146777
               ],
               [
                -119.278905,
                34.26727
               ],
               [
                -119.558229,
                34.415147
               ],
               [
                -119.875891,
                34.40967
               ],
               [
                -120.138784,
                34.475393
               ],
               [
                -120.472878,
                34.448009
               ],
               [
                -120.64814,
                34.579455
               ],
               [
                -120.609801,
                34.858779
               ],
               [
                -120.670048,
                34.902595
               ],
               [
                -120.631709,
                35.099764
               ],
               [
                -120.894602,
                35.247642
               ],
               [
                -120.905556,
                35.450289
               ],
               [
                -121.004141,
                35.461243
               ],
               [
                -121.168449,
                35.636505
               ],
               [
                -121.283465,
                35.674843
               ],
               [
                -121.332757,
                35.784382
               ],
               [
                -121.716143,
                36.195153
               ],
               [
                -121.896882,
                36.315645
               ],
               [
                -121.935221,
                36.638785
               ],
               [
                -121.858544,
                36.6114
               ],
               [
                -121.787344,
                36.803093
               ],
               [
                -121.929744,
                36.978355
               ],
               [
                -122.105006,
                36.956447
               ],
               [
                -122.335038,
                37.115279
               ],
               [
                -122.417192,
                37.241248
               ],
               [
                -122.400761,
                37.361741
               ],
               [
                -122.515777,
                37.520572
               ],
               [
                -122.515777,
                37.783465
               ],
               [
                -122.329561,
                37.783465
               ],
               [
                -122.406238,
                38.15042
               ],
               [
                -122.488392,
                38.112082
               ],
               [
                -122.504823,
                37.931343
               ],
               [
                -122.701993,
                37.893004
               ],
               [
                -122.937501,
                38.029928
               ],
               [
                -122.97584,
                38.265436
               ],
               [
                -123.129194,
                38.451652
               ],
               [
                -123.331841,
                38.566668
               ],
               [
                -123.44138,
                38.698114
               ],
               [
                -123.737134,
                38.95553
               ],
               [
                -123.687842,
                39.032208
               ],
               [
                -123.824765,
                39.366301
               ],
               [
                -123.764519,
                39.552517
               ],
               [
                -123.85215,
                39.831841
               ],
               [
                -124.109566,
                40.105688
               ],
               [
                -124.361506,
                40.259042
               ],
               [
                -124.410798,
                40.439781
               ],
               [
                -124.158859,
                40.877937
               ],
               [
                -124.109566,
                41.025814
               ],
               [
                -124.158859,
                41.14083
               ],
               [
                -124.065751,
                41.442061
               ],
               [
                -124.147905,
                41.715908
               ],
               [
                -124.257444,
                41.781632
               ],
               [
                -124.213628,
                42.000709
               ],
               [
                -123.233256,
                42.006186
               ]
              ]
             ],
             "type": "Polygon"
            },
            "id": "CA",
            "properties": {},
            "type": "Feature"
           },
           {
            "bbox": [
             -91.50534,
             36.983832,
             -87.49622,
             42.510065
            ],
            "geometry": {
             "coordinates": [
              [
               [
                -90.639984,
                42.510065
               ],
               [
                -88.788778,
                42.493634
               ],
               [
                -87.802929,
                42.493634
               ],
               [
                -87.83579,
                42.301941
               ],
               [
                -87.682436,
                42.077386
               ],
               [
                -87.523605,
                41.710431
               ],
               [
                -87.529082,
                39.34987
               ],
               [
                -87.63862,
                39.169131
               ],
               [
                -87.512651,
                38.95553
               ],
               [
                -87.49622,
                38.780268
               ],
               [
                -87.62219,
                38.637868
               ],
               [
                -87.655051,
                38.506421
               ],
               [
                -87.83579,
                38.292821
               ],
               [
                -87.950806,
                38.27639
               ],
               [
                -87.923421,
                38.15042
               ],
               [
                -88.000098,
                38.101128
               ],
               [
                -88.060345,
                37.865619
               ],
               [
                -88.027483,
                37.799896
               ],
               [
                -88.15893,
                37.657496
               ],
               [
                -88.065822,
                37.482234
               ],
               [
                -88.476592,
                37.389126
               ],
               [
                -88.514931,
                37.285064
               ],
               [
                -88.421823,
                37.153617
               ],
               [
                -88.547792,
                37.071463
               ],
               [
                -88.914747,
                37.224817
               ],
               [
                -89.029763,
                37.213863
               ],
               [
                -89.183118,
                37.038601
               ],
               [
                -89.133825,
                36.983832
               ],
               [
                -89.292656,
                36.994786
               ],
               [
                -89.517211,
                37.279587
               ],
               [
                -89.435057,
                37.34531
               ],
               [
                -89.517211,
                37.537003
               ],
               [
                -89.517211,
                37.690357
               ],
               [
                -89.84035,
                37.903958
               ],
               [
                -89.949889,
                37.88205
               ],
               [
                -90.059428,
                38.013497
               ],
               [
                -90.355183,
                38.216144
               ],
               [
                -90.349706,
                38.374975
               ],
               [
                -90.179921,
                38.632391
               ],
               [
                -90.207305,
                38.725499
               ],
               [
                -90.10872,
                38.845992
               ],
               [
                -90.251121,
                38.917192
               ],
               [
                -90.470199,
                38.961007
               ],
               [
                -90.585214,
                38.867899
               ],
               [
                -90.661891,
                38.928146
               ],
               [
                -90.727615,
                39.256762
               ],
               [
                -91.061708,
                39.470363
               ],
               [
                -91.368417,
                39.727779
               ],
               [
                -91.494386,
                40.034488
               ],
               [
                -91.50534,
                40.237135
               ],
               [
                -91.417709,
                40.379535
               ],
               [
                -91.401278,
                40.560274
               ],
               [
                -91.121954,
                40.669813
               ],
               [
                -91.09457,
                40.823167
               ],
               [
                -90.963123,
                40.921752
               ],
               [
                -90.946692,
                41.097014
               ],
               [
                -91.111001,
                41.239415
               ],
               [
                -91.045277,
                41.414677
               ],
               [
                -90.656414,
                41.463969
               ],
               [
                -90.344229,
                41.589939
               ],
               [
                -90.311367,
                41.743293
               ],
               [
                -90.179921,
                41.809016
               ],
               [
                -90.141582,
                42.000709
               ],
               [
                -90.168967,
                42.126679
               ],
               [
                -90.393521,
                42.225264
               ],
               [
                -90.420906,
                42.329326
               ],
               [
                -90.639984,
                42.510065
               ]
              ]
             ],
             "type": "Polygon"
            },
            "id": "IL",
            "properties": {},
            "type": "Feature"
           },
           {
            "bbox": [
             -79.76278,
             40.543843,
             -72.100541,
             45.018503
            ],
            "geometry": {
             "coordinates": [
              [
               [
                -73.343806,
                45.013027
               ],
               [
                -73.332852,
                44.804903
               ],
               [
                -73.387622,
                44.618687
               ],
               [
                -73.294514,
                44.437948
               ],
               [
                -73.321898,
                44.246255
               ],
               [
                -73.436914,
                44.043608
               ],
               [
                -73.349283,
                43.769761
               ],
               [
                -73.404052,
                43.687607
               ],
               [
                -73.245221,
                43.523299
               ],
               [
                -73.278083,
                42.833204
               ],
               [
                -73.267129,
                42.745573
               ],
               [
                -73.508114,
                42.08834
               ],
               [
                -73.486206,
                42.050002
               ],
               [
                -73.55193,
                41.294184
               ],
               [
                -73.48073,
                41.21203
               ],
               [
                -73.727192,
                41.102491
               ],
               [
                -73.655992,
                40.987475
               ],
               [
                -73.22879,
                40.905321
               ],
               [
                -73.141159,
                40.965568
               ],
               [
                -72.774204,
                40.965568
               ],
               [
                -72.587988,
                40.998429
               ],
               [
                -72.28128,
                41.157261
               ],
               [
                -72.259372,
                41.042245
               ],
               [
                -72.100541,
                40.992952
               ],
               [
                -72.467496,
                40.845075
               ],
               [
                -73.239744,
                40.625997
               ],
               [
                -73.562884,
                40.582182
               ],
               [
                -73.776484,
                40.593136
               ],
               [
                -73.935316,
                40.543843
               ],
               [
                -74.022947,
                40.708151
               ],
               [
                -73.902454,
                40.998429
               ],
               [
                -74.236547,
                41.14083
               ],
               [
                -74.69661,
                41.359907
               ],
               [
                -74.740426,
                41.431108
               ],
               [
                -74.89378,
                41.436584
               ],
               [
                -75.074519,
                41.60637
               ],
               [
                -75.052611,
                41.754247
               ],
               [
                -75.173104,
                41.869263
               ],
               [
                -75.249781,
                41.863786
               ],
               [
                -75.35932,
                42.000709
               ],
               [
                -79.76278,
                42.000709
               ],
               [
                -79.76278,
                42.252649
               ],
               [
                -79.76278,
                42.269079
               ],
               [
                -79.149363,
                42.55388
               ],
               [
                -79.050778,
                42.690804
               ],
               [
                -78.853608,
                42.783912
               ],
               [
                -78.930285,
                42.953697
               ],
               [
                -79.012439,
                42.986559
               ],
               [
                -79.072686,
                43.260406
               ],
               [
                -78.486653,
                43.375421
               ],
               [
                -77.966344,
                43.369944
               ],
               [
                -77.75822,
                43.34256
               ],
               [
                -77.533665,
                43.233021
               ],
               [
                -77.391265,
                43.276836
               ],
               [
                -76.958587,
                43.271359
               ],
               [
                -76.695693,
                43.34256
               ],
               [
                -76.41637,
                43.523299
               ],
               [
                -76.235631,
                43.528776
               ],
               [
                -76.230154,
                43.802623
               ],
               [
                -76.137046,
                43.961454
               ],
               [
                -76.3616,
                44.070993
               ],
               [
                -76.312308,
                44.196962
               ],
               [
                -75.912491,
                44.366748
               ],
               [
                -75.764614,
                44.514625
               ],
               [
                -75.282643,
                44.848718
               ],
               [
                -74.828057,
                45.018503
               ],
               [
                -74.148916,
                44.991119
               ],
               [
                -73.343806,
                45.013027
               ]
              ]
             ],
             "type": "Polygon"
            },
            "id": "NY",
            "properties": {},
            "type": "Feature"
           },
           {
            "bbox": [
             -80.518598,
             39.722302,
             -74.69661,
             42.269079
            ],
            "geometry": {
             "coordinates": [
              [
               [
                -79.76278,
                42.252649
               ],
               [
                -79.76278,
                42.000709
               ],
               [
                -75.35932,
                42.000709
               ],
               [
                -75.249781,
                41.863786
               ],
               [
                -75.173104,
                41.869263
               ],
               [
                -75.052611,
                41.754247
               ],
               [
                -75.074519,
                41.60637
               ],
               [
                -74.89378,
                41.436584
               ],
               [
                -74.740426,
                41.431108
               ],
               [
                -74.69661,
                41.359907
               ],
               [
                -74.828057,
                41.288707
               ],
               [
                -74.882826,
                41.179168
               ],
               [
                -75.134765,
                40.971045
               ],
               [
                -75.052611,
                40.866983
               ],
               [
                -75.205966,
                40.691721
               ],
               [
                -75.195012,
                40.576705
               ],
               [
                -75.069042,
                40.543843
               ],
               [
                -75.058088,
                40.417874
               ],
               [
                -74.773287,
                40.215227
               ],
               [
                -74.82258,
                40.127596
               ],
               [
                -75.129289,
                39.963288
               ],
               [
                -75.145719,
                39.88661
               ],
               [
                -75.414089,
                39.804456
               ],
               [
                -75.616736,
                39.831841
               ],
               [
                -75.786521,
                39.722302
               ],
               [
                -79.477979,
                39.722302
               ],
               [
                -80.518598,
                39.722302
               ],
               [
                -80.518598,
                40.636951
               ],
               [
                -80.518598,
                41.978802
               ],
               [
                -80.518598,
                41.978802
               ],
               [
                -80.332382,
                42.033571
               ],
               [
                -79.76278,
                42.269079
               ],
               [
                -79.76278,
                42.252649
               ]
              ]
             ],
             "type": "Polygon"
            },
            "id": "PA",
            "properties": {},
            "type": "Feature"
           },
           {
            "bbox": [
             -106.643603,
             25.887551,
             -93.526331,
             36.501861
            ],
            "geometry": {
             "coordinates": [
              [
               [
                -101.812942,
                36.501861
               ],
               [
                -100.000075,
                36.501861
               ],
               [
                -100.000075,
                34.563024
               ],
               [
                -99.923398,
                34.573978
               ],
               [
                -99.698843,
                34.382285
               ],
               [
                -99.57835,
                34.415147
               ],
               [
                -99.260688,
                34.404193
               ],
               [
                -99.189488,
                34.2125
               ],
               [
                -98.986841,
                34.223454
               ],
               [
                -98.767763,
                34.135823
               ],
               [
                -98.570593,
                34.146777
               ],
               [
                -98.488439,
                34.064623
               ],
               [
                -98.36247,
                34.157731
               ],
               [
                -98.170777,
                34.113915
               ],
               [
                -98.088623,
                34.004376
               ],
               [
                -97.946222,
                33.987946
               ],
               [
                -97.869545,
                33.851022
               ],
               [
                -97.694283,
                33.982469
               ],
               [
                -97.458774,
                33.905791
               ],
               [
                -97.371143,
                33.823637
               ],
               [
                -97.256128,
                33.861976
               ],
               [
                -97.173974,
                33.736006
               ],
               [
                -96.922034,
                33.960561
               ],
               [
                -96.850834,
                33.845545
               ],
               [
                -96.631756,
                33.845545
               ],
               [
                -96.423633,
                33.774345
               ],
               [
                -96.346956,
                33.686714
               ],
               [
                -96.149786,
                33.840068
               ],
               [
                -95.936185,
                33.889361
               ],
               [
                -95.8376,
                33.834591
               ],
               [
                -95.602092,
                33.933176
               ],
               [
                -95.547322,
                33.878407
               ],
               [
                -95.289906,
                33.87293
               ],
               [
                -95.224183,
                33.960561
               ],
               [
                -94.966767,
                33.861976
               ],
               [
                -94.868182,
                33.74696
               ],
               [
                -94.484796,
                33.637421
               ],
               [
                -94.380734,
                33.544313
               ],
               [
                -94.183564,
                33.593606
               ],
               [
                -94.041164,
                33.54979
               ],
               [
                -94.041164,
                33.018527
               ],
               [
                -94.041164,
                31.994339
               ],
               [
                -93.822086,
                31.775262
               ],
               [
                -93.816609,
                31.556184
               ],
               [
                -93.542762,
                31.15089
               ],
               [
                -93.526331,
                30.93729
               ],
               [
                -93.630393,
                30.679874
               ],
               [
                -93.728978,
                30.575812
               ],
               [
                -93.696116,
                30.438888
               ],
               [
                -93.767317,
                30.334826
               ],
               [
                -93.690639,
                30.143133
               ],
               [
                -93.926148,
                29.787132
               ],
               [
                -93.838517,
                29.688547
               ],
               [
                -94.002825,
                29.68307
               ],
               [
                -94.523134,
                29.546147
               ],
               [
                -94.70935,
                29.622824
               ],
               [
                -94.742212,
                29.787132
               ],
               [
                -94.873659,
                29.672117
               ],
               [
                -94.966767,
                29.699501
               ],
               [
                -95.016059,
                29.557101
               ],
               [
                -94.911997,
                29.496854
               ],
               [
                -94.895566,
                29.310638
               ],
               [
                -95.081782,
                29.113469
               ],
               [
                -95.383014,
                28.867006
               ],
               [
                -95.985477,
                28.604113
               ],
               [
                -96.045724,
                28.647929
               ],
               [
                -96.226463,
                28.582205
               ],
               [
                -96.23194,
                28.642452
               ],
               [
                -96.478402,
                28.598636
               ],
               [
                -96.593418,
                28.724606
               ],
               [
                -96.664618,
                28.697221
               ],
               [
                -96.401725,
                28.439805
               ],
               [
                -96.593418,
                28.357651
               ],
               [
                -96.774157,
                28.406943
               ],
               [
                -96.801542,
                28.226204
               ],
               [
                -97.026096,
                28.039988
               ],
               [
                -97.256128,
                27.694941
               ],
               [
                -97.404005,
                27.333463
               ],
               [
                -97.513544,
                27.360848
               ],
               [
                -97.540929,
                27.229401
               ],
               [
                -97.425913,
                27.262263
               ],
               [
                -97.480682,
                26.99937
               ],
               [
                -97.557359,
                26.988416
               ],
               [
                -97.562836,
                26.840538
               ],
               [
                -97.469728,
                26.758384
               ],
               [
                -97.442344,
                26.457153
               ],
               [
                -97.332805,
                26.353091
               ],
               [
                -97.30542,
                26.161398
               ],
               [
                -97.217789,
                25.991613
               ],
               [
                -97.524498,
                25.887551
               ],
               [
                -97.650467,
                26.018997
               ],
               [
                -97.885976,
                26.06829
               ],
               [
                -98.198161,
                26.057336
               ],
               [
                -98.466531,
                26.221644
               ],
               [
                -98.669178,
                26.238075
               ],
               [
                -98.822533,
                26.369522
               ],
               [
                -99.030656,
                26.413337
               ],
               [
                -99.173057,
                26.539307
               ],
               [
                -99.266165,
                26.840538
               ],
               [
                -99.446904,
                27.021277
               ],
               [
                -99.424996,
                27.174632
               ],
               [
                -99.50715,
                27.33894
               ],
               [
                -99.479765,
                27.48134
               ],
               [
                -99.605735,
                27.640172
               ],
               [
                -99.709797,
                27.656603
               ],
               [
                -99.879582,
                27.799003
               ],
               [
                -99.934351,
                27.979742
               ],
               [
                -100.082229,
                28.14405
               ],
               [
                -100.29583,
                28.280974
               ],
               [
                -100.399891,
                28.582205
               ],
               [
                -100.498476,
                28.66436
               ],
               [
                -100.629923,
                28.905345
               ],
               [
                -100.673738,
                29.102515
               ],
               [
                -100.799708,
                29.244915
               ],
               [
                -101.013309,
                29.370885
               ],
               [
                -101.062601,
                29.458516
               ],
               [
                -101.259771,
                29.535193
               ],
               [
                -101.413125,
                29.754271
               ],
               [
                -101.851281,
                29.803563
               ],
               [
                -102.114174,
                29.792609
               ],
               [
                -102.338728,
                29.869286
               ],
               [
                -102.388021,
                29.765225
               ],
               [
                -102.629006,
                29.732363
               ],
               [
                -102.809745,
                29.524239
               ],
               [
                -102.919284,
                29.190146
               ],
               [
                -102.97953,
                29.184669
               ],
               [
                -103.116454,
                28.987499
               ],
               [
                -103.280762,
                28.982022
               ],
               [
                -103.527224,
                29.135376
               ],
               [
                -104.146119,
                29.381839
               ],
               [
                -104.266611,
                29.513285
               ],
               [
                -104.507597,
                29.639255
               ],
               [
                -104.677382,
                29.924056
               ],
               [
                -104.688336,
                30.181472
               ],
               [
                -104.858121,
                30.389596
               ],
               [
                -104.896459,
                30.570335
               ],
               [
                -105.005998,
                30.685351
               ],
               [
                -105.394861,
                30.855136
               ],
               [
                -105.602985,
                31.085167
               ],
               [
                -105.77277,
                31.167321
               ],
               [
                -105.953509,
                31.364491
               ],
               [
                -106.205448,
                31.468553
               ],
               [
                -106.38071,
                31.731446
               ],
               [
                -106.528588,
                31.786216
               ],
               [
                -106.643603,
                31.901231
               ],
               [
                -106.616219,
                31.999816
               ],
               [
                -103.067161,
                31.999816
               ],
               [
                -103.067161,
                33.002096
               ],
               [
                -103.045254,
                34.01533
               ],
               [
                -103.039777,
                36.501861
               ],
               [
                -103.001438,
                36.501861
               ],
               [
                -101.812942,
                36.501861
               ]
              ]
             ],
             "type": "Polygon"
            },
            "id": "TX",
            "properties": {},
            "type": "Feature"
           }
          ],
          "type": "FeatureCollection"
         },
         "hovertemplate": "<b>%{hovertext}</b><br><br>id=%{location}<br>Frequency=%{z}<extra></extra>",
         "hovertext": [
          "Arizona",
          "California",
          "Illinois",
          "New York",
          "Pennsylvania",
          "Texas"
         ],
         "locations": [
          "AZ",
          "CA",
          "IL",
          "NY",
          "PA",
          "TX"
         ],
         "name": "",
         "type": "choropleth",
         "z": [
          3887,
          11685,
          3781,
          3690,
          3767,
          11403
         ]
        }
       ],
       "layout": {
        "coloraxis": {
         "colorbar": {
          "title": {
           "text": "Frequency"
          }
         },
         "colorscale": [
          [
           0,
           "#440154"
          ],
          [
           0.1111111111111111,
           "#482878"
          ],
          [
           0.2222222222222222,
           "#3e4989"
          ],
          [
           0.3333333333333333,
           "#31688e"
          ],
          [
           0.4444444444444444,
           "#26828e"
          ],
          [
           0.5555555555555556,
           "#1f9e89"
          ],
          [
           0.6666666666666666,
           "#35b779"
          ],
          [
           0.7777777777777778,
           "#6ece58"
          ],
          [
           0.8888888888888888,
           "#b5de2b"
          ],
          [
           1,
           "#fde725"
          ]
         ]
        },
        "geo": {
         "center": {},
         "domain": {
          "x": [
           0,
           1
          ],
          "y": [
           0,
           1
          ]
         },
         "fitbounds": "locations"
        },
        "legend": {
         "tracegroupgap": 0
        },
        "template": {
         "data": {
          "bar": [
           {
            "error_x": {
             "color": "#2a3f5f"
            },
            "error_y": {
             "color": "#2a3f5f"
            },
            "marker": {
             "line": {
              "color": "#E5ECF6",
              "width": 0.5
             },
             "pattern": {
              "fillmode": "overlay",
              "size": 10,
              "solidity": 0.2
             }
            },
            "type": "bar"
           }
          ],
          "barpolar": [
           {
            "marker": {
             "line": {
              "color": "#E5ECF6",
              "width": 0.5
             },
             "pattern": {
              "fillmode": "overlay",
              "size": 10,
              "solidity": 0.2
             }
            },
            "type": "barpolar"
           }
          ],
          "carpet": [
           {
            "aaxis": {
             "endlinecolor": "#2a3f5f",
             "gridcolor": "white",
             "linecolor": "white",
             "minorgridcolor": "white",
             "startlinecolor": "#2a3f5f"
            },
            "baxis": {
             "endlinecolor": "#2a3f5f",
             "gridcolor": "white",
             "linecolor": "white",
             "minorgridcolor": "white",
             "startlinecolor": "#2a3f5f"
            },
            "type": "carpet"
           }
          ],
          "choropleth": [
           {
            "colorbar": {
             "outlinewidth": 0,
             "ticks": ""
            },
            "type": "choropleth"
           }
          ],
          "contour": [
           {
            "colorbar": {
             "outlinewidth": 0,
             "ticks": ""
            },
            "colorscale": [
             [
              0,
              "#0d0887"
             ],
             [
              0.1111111111111111,
              "#46039f"
             ],
             [
              0.2222222222222222,
              "#7201a8"
             ],
             [
              0.3333333333333333,
              "#9c179e"
             ],
             [
              0.4444444444444444,
              "#bd3786"
             ],
             [
              0.5555555555555556,
              "#d8576b"
             ],
             [
              0.6666666666666666,
              "#ed7953"
             ],
             [
              0.7777777777777778,
              "#fb9f3a"
             ],
             [
              0.8888888888888888,
              "#fdca26"
             ],
             [
              1,
              "#f0f921"
             ]
            ],
            "type": "contour"
           }
          ],
          "contourcarpet": [
           {
            "colorbar": {
             "outlinewidth": 0,
             "ticks": ""
            },
            "type": "contourcarpet"
           }
          ],
          "heatmap": [
           {
            "colorbar": {
             "outlinewidth": 0,
             "ticks": ""
            },
            "colorscale": [
             [
              0,
              "#0d0887"
             ],
             [
              0.1111111111111111,
              "#46039f"
             ],
             [
              0.2222222222222222,
              "#7201a8"
             ],
             [
              0.3333333333333333,
              "#9c179e"
             ],
             [
              0.4444444444444444,
              "#bd3786"
             ],
             [
              0.5555555555555556,
              "#d8576b"
             ],
             [
              0.6666666666666666,
              "#ed7953"
             ],
             [
              0.7777777777777778,
              "#fb9f3a"
             ],
             [
              0.8888888888888888,
              "#fdca26"
             ],
             [
              1,
              "#f0f921"
             ]
            ],
            "type": "heatmap"
           }
          ],
          "heatmapgl": [
           {
            "colorbar": {
             "outlinewidth": 0,
             "ticks": ""
            },
            "colorscale": [
             [
              0,
              "#0d0887"
             ],
             [
              0.1111111111111111,
              "#46039f"
             ],
             [
              0.2222222222222222,
              "#7201a8"
             ],
             [
              0.3333333333333333,
              "#9c179e"
             ],
             [
              0.4444444444444444,
              "#bd3786"
             ],
             [
              0.5555555555555556,
              "#d8576b"
             ],
             [
              0.6666666666666666,
              "#ed7953"
             ],
             [
              0.7777777777777778,
              "#fb9f3a"
             ],
             [
              0.8888888888888888,
              "#fdca26"
             ],
             [
              1,
              "#f0f921"
             ]
            ],
            "type": "heatmapgl"
           }
          ],
          "histogram": [
           {
            "marker": {
             "pattern": {
              "fillmode": "overlay",
              "size": 10,
              "solidity": 0.2
             }
            },
            "type": "histogram"
           }
          ],
          "histogram2d": [
           {
            "colorbar": {
             "outlinewidth": 0,
             "ticks": ""
            },
            "colorscale": [
             [
              0,
              "#0d0887"
             ],
             [
              0.1111111111111111,
              "#46039f"
             ],
             [
              0.2222222222222222,
              "#7201a8"
             ],
             [
              0.3333333333333333,
              "#9c179e"
             ],
             [
              0.4444444444444444,
              "#bd3786"
             ],
             [
              0.5555555555555556,
              "#d8576b"
             ],
             [
              0.6666666666666666,
              "#ed7953"
             ],
             [
              0.7777777777777778,
              "#fb9f3a"
             ],
             [
              0.8888888888888888,
              "#fdca26"
             ],
             [
              1,
              "#f0f921"
             ]
            ],
            "type": "histogram2d"
           }
          ],
          "histogram2dcontour": [
           {
            "colorbar": {
             "outlinewidth": 0,
             "ticks": ""
            },
            "colorscale": [
             [
              0,
              "#0d0887"
             ],
             [
              0.1111111111111111,
              "#46039f"
             ],
             [
              0.2222222222222222,
              "#7201a8"
             ],
             [
              0.3333333333333333,
              "#9c179e"
             ],
             [
              0.4444444444444444,
              "#bd3786"
             ],
             [
              0.5555555555555556,
              "#d8576b"
             ],
             [
              0.6666666666666666,
              "#ed7953"
             ],
             [
              0.7777777777777778,
              "#fb9f3a"
             ],
             [
              0.8888888888888888,
              "#fdca26"
             ],
             [
              1,
              "#f0f921"
             ]
            ],
            "type": "histogram2dcontour"
           }
          ],
          "mesh3d": [
           {
            "colorbar": {
             "outlinewidth": 0,
             "ticks": ""
            },
            "type": "mesh3d"
           }
          ],
          "parcoords": [
           {
            "line": {
             "colorbar": {
              "outlinewidth": 0,
              "ticks": ""
             }
            },
            "type": "parcoords"
           }
          ],
          "pie": [
           {
            "automargin": true,
            "type": "pie"
           }
          ],
          "scatter": [
           {
            "fillpattern": {
             "fillmode": "overlay",
             "size": 10,
             "solidity": 0.2
            },
            "type": "scatter"
           }
          ],
          "scatter3d": [
           {
            "line": {
             "colorbar": {
              "outlinewidth": 0,
              "ticks": ""
             }
            },
            "marker": {
             "colorbar": {
              "outlinewidth": 0,
              "ticks": ""
             }
            },
            "type": "scatter3d"
           }
          ],
          "scattercarpet": [
           {
            "marker": {
             "colorbar": {
              "outlinewidth": 0,
              "ticks": ""
             }
            },
            "type": "scattercarpet"
           }
          ],
          "scattergeo": [
           {
            "marker": {
             "colorbar": {
              "outlinewidth": 0,
              "ticks": ""
             }
            },
            "type": "scattergeo"
           }
          ],
          "scattergl": [
           {
            "marker": {
             "colorbar": {
              "outlinewidth": 0,
              "ticks": ""
             }
            },
            "type": "scattergl"
           }
          ],
          "scattermapbox": [
           {
            "marker": {
             "colorbar": {
              "outlinewidth": 0,
              "ticks": ""
             }
            },
            "type": "scattermapbox"
           }
          ],
          "scatterpolar": [
           {
            "marker": {
             "colorbar": {
              "outlinewidth": 0,
              "ticks": ""
             }
            },
            "type": "scatterpolar"
           }
          ],
          "scatterpolargl": [
           {
            "marker": {
             "colorbar": {
              "outlinewidth": 0,
              "ticks": ""
             }
            },
            "type": "scatterpolargl"
           }
          ],
          "scatterternary": [
           {
            "marker": {
             "colorbar": {
              "outlinewidth": 0,
              "ticks": ""
             }
            },
            "type": "scatterternary"
           }
          ],
          "surface": [
           {
            "colorbar": {
             "outlinewidth": 0,
             "ticks": ""
            },
            "colorscale": [
             [
              0,
              "#0d0887"
             ],
             [
              0.1111111111111111,
              "#46039f"
             ],
             [
              0.2222222222222222,
              "#7201a8"
             ],
             [
              0.3333333333333333,
              "#9c179e"
             ],
             [
              0.4444444444444444,
              "#bd3786"
             ],
             [
              0.5555555555555556,
              "#d8576b"
             ],
             [
              0.6666666666666666,
              "#ed7953"
             ],
             [
              0.7777777777777778,
              "#fb9f3a"
             ],
             [
              0.8888888888888888,
              "#fdca26"
             ],
             [
              1,
              "#f0f921"
             ]
            ],
            "type": "surface"
           }
          ],
          "table": [
           {
            "cells": {
             "fill": {
              "color": "#EBF0F8"
             },
             "line": {
              "color": "white"
             }
            },
            "header": {
             "fill": {
              "color": "#C8D4E3"
             },
             "line": {
              "color": "white"
             }
            },
            "type": "table"
           }
          ]
         },
         "layout": {
          "annotationdefaults": {
           "arrowcolor": "#2a3f5f",
           "arrowhead": 0,
           "arrowwidth": 1
          },
          "autotypenumbers": "strict",
          "coloraxis": {
           "colorbar": {
            "outlinewidth": 0,
            "ticks": ""
           }
          },
          "colorscale": {
           "diverging": [
            [
             0,
             "#8e0152"
            ],
            [
             0.1,
             "#c51b7d"
            ],
            [
             0.2,
             "#de77ae"
            ],
            [
             0.3,
             "#f1b6da"
            ],
            [
             0.4,
             "#fde0ef"
            ],
            [
             0.5,
             "#f7f7f7"
            ],
            [
             0.6,
             "#e6f5d0"
            ],
            [
             0.7,
             "#b8e186"
            ],
            [
             0.8,
             "#7fbc41"
            ],
            [
             0.9,
             "#4d9221"
            ],
            [
             1,
             "#276419"
            ]
           ],
           "sequential": [
            [
             0,
             "#0d0887"
            ],
            [
             0.1111111111111111,
             "#46039f"
            ],
            [
             0.2222222222222222,
             "#7201a8"
            ],
            [
             0.3333333333333333,
             "#9c179e"
            ],
            [
             0.4444444444444444,
             "#bd3786"
            ],
            [
             0.5555555555555556,
             "#d8576b"
            ],
            [
             0.6666666666666666,
             "#ed7953"
            ],
            [
             0.7777777777777778,
             "#fb9f3a"
            ],
            [
             0.8888888888888888,
             "#fdca26"
            ],
            [
             1,
             "#f0f921"
            ]
           ],
           "sequentialminus": [
            [
             0,
             "#0d0887"
            ],
            [
             0.1111111111111111,
             "#46039f"
            ],
            [
             0.2222222222222222,
             "#7201a8"
            ],
            [
             0.3333333333333333,
             "#9c179e"
            ],
            [
             0.4444444444444444,
             "#bd3786"
            ],
            [
             0.5555555555555556,
             "#d8576b"
            ],
            [
             0.6666666666666666,
             "#ed7953"
            ],
            [
             0.7777777777777778,
             "#fb9f3a"
            ],
            [
             0.8888888888888888,
             "#fdca26"
            ],
            [
             1,
             "#f0f921"
            ]
           ]
          },
          "colorway": [
           "#636efa",
           "#EF553B",
           "#00cc96",
           "#ab63fa",
           "#FFA15A",
           "#19d3f3",
           "#FF6692",
           "#B6E880",
           "#FF97FF",
           "#FECB52"
          ],
          "font": {
           "color": "#2a3f5f"
          },
          "geo": {
           "bgcolor": "white",
           "lakecolor": "white",
           "landcolor": "#E5ECF6",
           "showlakes": true,
           "showland": true,
           "subunitcolor": "white"
          },
          "hoverlabel": {
           "align": "left"
          },
          "hovermode": "closest",
          "mapbox": {
           "style": "light"
          },
          "paper_bgcolor": "white",
          "plot_bgcolor": "#E5ECF6",
          "polar": {
           "angularaxis": {
            "gridcolor": "white",
            "linecolor": "white",
            "ticks": ""
           },
           "bgcolor": "#E5ECF6",
           "radialaxis": {
            "gridcolor": "white",
            "linecolor": "white",
            "ticks": ""
           }
          },
          "scene": {
           "xaxis": {
            "backgroundcolor": "#E5ECF6",
            "gridcolor": "white",
            "gridwidth": 2,
            "linecolor": "white",
            "showbackground": true,
            "ticks": "",
            "zerolinecolor": "white"
           },
           "yaxis": {
            "backgroundcolor": "#E5ECF6",
            "gridcolor": "white",
            "gridwidth": 2,
            "linecolor": "white",
            "showbackground": true,
            "ticks": "",
            "zerolinecolor": "white"
           },
           "zaxis": {
            "backgroundcolor": "#E5ECF6",
            "gridcolor": "white",
            "gridwidth": 2,
            "linecolor": "white",
            "showbackground": true,
            "ticks": "",
            "zerolinecolor": "white"
           }
          },
          "shapedefaults": {
           "line": {
            "color": "#2a3f5f"
           }
          },
          "ternary": {
           "aaxis": {
            "gridcolor": "white",
            "linecolor": "white",
            "ticks": ""
           },
           "baxis": {
            "gridcolor": "white",
            "linecolor": "white",
            "ticks": ""
           },
           "bgcolor": "#E5ECF6",
           "caxis": {
            "gridcolor": "white",
            "linecolor": "white",
            "ticks": ""
           }
          },
          "title": {
           "x": 0.05
          },
          "xaxis": {
           "automargin": true,
           "gridcolor": "white",
           "linecolor": "white",
           "ticks": "",
           "title": {
            "standoff": 15
           },
           "zerolinecolor": "white",
           "zerolinewidth": 2
          },
          "yaxis": {
           "automargin": true,
           "gridcolor": "white",
           "linecolor": "white",
           "ticks": "",
           "title": {
            "standoff": 15
           },
           "zerolinecolor": "white",
           "zerolinewidth": 2
          }
         }
        },
        "title": {
         "text": "Frequency of Purchases by State (USA)"
        }
       }
      },
      "image/png": "[encoded data removed]",
      "text/html": [
       "<div>                            <div id=\"2ad23c5e-9fbb-42b9-b05a-f727aa7b3ff5\" class=\"plotly-graph-div\" style=\"height:525px; width:100%;\"></div>            <script type=\"text/javascript\">                require([\"plotly\"], function(Plotly) {                    window.PLOTLYENV=window.PLOTLYENV || {};                                    if (document.getElementById(\"2ad23c5e-9fbb-42b9-b05a-f727aa7b3ff5\")) {                    Plotly.newPlot(                        \"2ad23c5e-9fbb-42b9-b05a-f727aa7b3ff5\",                        [{\"coloraxis\":\"coloraxis\",\"geo\":\"geo\",\"geojson\":{\"type\":\"FeatureCollection\",\"features\":[{\"id\":\"AZ\",\"type\":\"Feature\",\"properties\":{},\"geometry\":{\"type\":\"Polygon\",\"coordinates\":[[[-109.042503,37.000263],[-109.04798,31.331629],[-111.074448,31.331629],[-112.246513,31.704061],[-114.815198,32.492741],[-114.72209,32.717295],[-114.524921,32.755634],[-114.470151,32.843265],[-114.524921,33.029481],[-114.661844,33.034958],[-114.727567,33.40739],[-114.524921,33.54979],[-114.497536,33.697668],[-114.535874,33.933176],[-114.415382,34.108438],[-114.256551,34.174162],[-114.136058,34.305608],[-114.333228,34.448009],[-114.470151,34.710902],[-114.634459,34.87521],[-114.634459,35.00118],[-114.574213,35.138103],[-114.596121,35.324319],[-114.678275,35.516012],[-114.738521,36.102045],[-114.371566,36.140383],[-114.251074,36.01989],[-114.152489,36.025367],[-114.048427,36.195153],[-114.048427,37.000263],[-110.499369,37.00574],[-109.042503,37.000263]]]},\"bbox\":[-114.815198,31.331629,-109.042503,37.00574]},{\"id\":\"CA\",\"type\":\"Feature\",\"properties\":{},\"geometry\":{\"type\":\"Polygon\",\"coordinates\":[[[-123.233256,42.006186],[-122.378853,42.011663],[-121.037003,41.995232],[-120.001861,41.995232],[-119.996384,40.264519],[-120.001861,38.999346],[-118.71478,38.101128],[-117.498899,37.21934],[-116.540435,36.501861],[-115.85034,35.970598],[-114.634459,35.00118],[-114.634459,34.87521],[-114.470151,34.710902],[-114.333228,34.448009],[-114.136058,34.305608],[-114.256551,34.174162],[-114.415382,34.108438],[-114.535874,33.933176],[-114.497536,33.697668],[-114.524921,33.54979],[-114.727567,33.40739],[-114.661844,33.034958],[-114.524921,33.029481],[-114.470151,32.843265],[-114.524921,32.755634],[-114.72209,32.717295],[-116.04751,32.624187],[-117.126467,32.536556],[-117.24696,32.668003],[-117.252437,32.876127],[-117.329114,33.122589],[-117.471515,33.297851],[-117.7837,33.538836],[-118.183517,33.763391],[-118.260194,33.703145],[-118.413548,33.741483],[-118.391641,33.840068],[-118.566903,34.042715],[-118.802411,33.998899],[-119.218659,34.146777],[-119.278905,34.26727],[-119.558229,34.415147],[-119.875891,34.40967],[-120.138784,34.475393],[-120.472878,34.448009],[-120.64814,34.579455],[-120.609801,34.858779],[-120.670048,34.902595],[-120.631709,35.099764],[-120.894602,35.247642],[-120.905556,35.450289],[-121.004141,35.461243],[-121.168449,35.636505],[-121.283465,35.674843],[-121.332757,35.784382],[-121.716143,36.195153],[-121.896882,36.315645],[-121.935221,36.638785],[-121.858544,36.6114],[-121.787344,36.803093],[-121.929744,36.978355],[-122.105006,36.956447],[-122.335038,37.115279],[-122.417192,37.241248],[-122.400761,37.361741],[-122.515777,37.520572],[-122.515777,37.783465],[-122.329561,37.783465],[-122.406238,38.15042],[-122.488392,38.112082],[-122.504823,37.931343],[-122.701993,37.893004],[-122.937501,38.029928],[-122.97584,38.265436],[-123.129194,38.451652],[-123.331841,38.566668],[-123.44138,38.698114],[-123.737134,38.95553],[-123.687842,39.032208],[-123.824765,39.366301],[-123.764519,39.552517],[-123.85215,39.831841],[-124.109566,40.105688],[-124.361506,40.259042],[-124.410798,40.439781],[-124.158859,40.877937],[-124.109566,41.025814],[-124.158859,41.14083],[-124.065751,41.442061],[-124.147905,41.715908],[-124.257444,41.781632],[-124.213628,42.000709],[-123.233256,42.006186]]]},\"bbox\":[-124.410798,32.536556,-114.136058,42.011663]},{\"id\":\"IL\",\"type\":\"Feature\",\"properties\":{},\"geometry\":{\"type\":\"Polygon\",\"coordinates\":[[[-90.639984,42.510065],[-88.788778,42.493634],[-87.802929,42.493634],[-87.83579,42.301941],[-87.682436,42.077386],[-87.523605,41.710431],[-87.529082,39.34987],[-87.63862,39.169131],[-87.512651,38.95553],[-87.49622,38.780268],[-87.62219,38.637868],[-87.655051,38.506421],[-87.83579,38.292821],[-87.950806,38.27639],[-87.923421,38.15042],[-88.000098,38.101128],[-88.060345,37.865619],[-88.027483,37.799896],[-88.15893,37.657496],[-88.065822,37.482234],[-88.476592,37.389126],[-88.514931,37.285064],[-88.421823,37.153617],[-88.547792,37.071463],[-88.914747,37.224817],[-89.029763,37.213863],[-89.183118,37.038601],[-89.133825,36.983832],[-89.292656,36.994786],[-89.517211,37.279587],[-89.435057,37.34531],[-89.517211,37.537003],[-89.517211,37.690357],[-89.84035,37.903958],[-89.949889,37.88205],[-90.059428,38.013497],[-90.355183,38.216144],[-90.349706,38.374975],[-90.179921,38.632391],[-90.207305,38.725499],[-90.10872,38.845992],[-90.251121,38.917192],[-90.470199,38.961007],[-90.585214,38.867899],[-90.661891,38.928146],[-90.727615,39.256762],[-91.061708,39.470363],[-91.368417,39.727779],[-91.494386,40.034488],[-91.50534,40.237135],[-91.417709,40.379535],[-91.401278,40.560274],[-91.121954,40.669813],[-91.09457,40.823167],[-90.963123,40.921752],[-90.946692,41.097014],[-91.111001,41.239415],[-91.045277,41.414677],[-90.656414,41.463969],[-90.344229,41.589939],[-90.311367,41.743293],[-90.179921,41.809016],[-90.141582,42.000709],[-90.168967,42.126679],[-90.393521,42.225264],[-90.420906,42.329326],[-90.639984,42.510065]]]},\"bbox\":[-91.50534,36.983832,-87.49622,42.510065]},{\"id\":\"NY\",\"type\":\"Feature\",\"properties\":{},\"geometry\":{\"type\":\"Polygon\",\"coordinates\":[[[-73.343806,45.013027],[-73.332852,44.804903],[-73.387622,44.618687],[-73.294514,44.437948],[-73.321898,44.246255],[-73.436914,44.043608],[-73.349283,43.769761],[-73.404052,43.687607],[-73.245221,43.523299],[-73.278083,42.833204],[-73.267129,42.745573],[-73.508114,42.08834],[-73.486206,42.050002],[-73.55193,41.294184],[-73.48073,41.21203],[-73.727192,41.102491],[-73.655992,40.987475],[-73.22879,40.905321],[-73.141159,40.965568],[-72.774204,40.965568],[-72.587988,40.998429],[-72.28128,41.157261],[-72.259372,41.042245],[-72.100541,40.992952],[-72.467496,40.845075],[-73.239744,40.625997],[-73.562884,40.582182],[-73.776484,40.593136],[-73.935316,40.543843],[-74.022947,40.708151],[-73.902454,40.998429],[-74.236547,41.14083],[-74.69661,41.359907],[-74.740426,41.431108],[-74.89378,41.436584],[-75.074519,41.60637],[-75.052611,41.754247],[-75.173104,41.869263],[-75.249781,41.863786],[-75.35932,42.000709],[-79.76278,42.000709],[-79.76278,42.252649],[-79.76278,42.269079],[-79.149363,42.55388],[-79.050778,42.690804],[-78.853608,42.783912],[-78.930285,42.953697],[-79.012439,42.986559],[-79.072686,43.260406],[-78.486653,43.375421],[-77.966344,43.369944],[-77.75822,43.34256],[-77.533665,43.233021],[-77.391265,43.276836],[-76.958587,43.271359],[-76.695693,43.34256],[-76.41637,43.523299],[-76.235631,43.528776],[-76.230154,43.802623],[-76.137046,43.961454],[-76.3616,44.070993],[-76.312308,44.196962],[-75.912491,44.366748],[-75.764614,44.514625],[-75.282643,44.848718],[-74.828057,45.018503],[-74.148916,44.991119],[-73.343806,45.013027]]]},\"bbox\":[-79.76278,40.543843,-72.100541,45.018503]},{\"id\":\"PA\",\"type\":\"Feature\",\"properties\":{},\"geometry\":{\"type\":\"Polygon\",\"coordinates\":[[[-79.76278,42.252649],[-79.76278,42.000709],[-75.35932,42.000709],[-75.249781,41.863786],[-75.173104,41.869263],[-75.052611,41.754247],[-75.074519,41.60637],[-74.89378,41.436584],[-74.740426,41.431108],[-74.69661,41.359907],[-74.828057,41.288707],[-74.882826,41.179168],[-75.134765,40.971045],[-75.052611,40.866983],[-75.205966,40.691721],[-75.195012,40.576705],[-75.069042,40.543843],[-75.058088,40.417874],[-74.773287,40.215227],[-74.82258,40.127596],[-75.129289,39.963288],[-75.145719,39.88661],[-75.414089,39.804456],[-75.616736,39.831841],[-75.786521,39.722302],[-79.477979,39.722302],[-80.518598,39.722302],[-80.518598,40.636951],[-80.518598,41.978802],[-80.518598,41.978802],[-80.332382,42.033571],[-79.76278,42.269079],[-79.76278,42.252649]]]},\"bbox\":[-80.518598,39.722302,-74.69661,42.269079]},{\"id\":\"TX\",\"type\":\"Feature\",\"properties\":{},\"geometry\":{\"type\":\"Polygon\",\"coordinates\":[[[-101.812942,36.501861],[-100.000075,36.501861],[-100.000075,34.563024],[-99.923398,34.573978],[-99.698843,34.382285],[-99.57835,34.415147],[-99.260688,34.404193],[-99.189488,34.2125],[-98.986841,34.223454],[-98.767763,34.135823],[-98.570593,34.146777],[-98.488439,34.064623],[-98.36247,34.157731],[-98.170777,34.113915],[-98.088623,34.004376],[-97.946222,33.987946],[-97.869545,33.851022],[-97.694283,33.982469],[-97.458774,33.905791],[-97.371143,33.823637],[-97.256128,33.861976],[-97.173974,33.736006],[-96.922034,33.960561],[-96.850834,33.845545],[-96.631756,33.845545],[-96.423633,33.774345],[-96.346956,33.686714],[-96.149786,33.840068],[-95.936185,33.889361],[-95.8376,33.834591],[-95.602092,33.933176],[-95.547322,33.878407],[-95.289906,33.87293],[-95.224183,33.960561],[-94.966767,33.861976],[-94.868182,33.74696],[-94.484796,33.637421],[-94.380734,33.544313],[-94.183564,33.593606],[-94.041164,33.54979],[-94.041164,33.018527],[-94.041164,31.994339],[-93.822086,31.775262],[-93.816609,31.556184],[-93.542762,31.15089],[-93.526331,30.93729],[-93.630393,30.679874],[-93.728978,30.575812],[-93.696116,30.438888],[-93.767317,30.334826],[-93.690639,30.143133],[-93.926148,29.787132],[-93.838517,29.688547],[-94.002825,29.68307],[-94.523134,29.546147],[-94.70935,29.622824],[-94.742212,29.787132],[-94.873659,29.672117],[-94.966767,29.699501],[-95.016059,29.557101],[-94.911997,29.496854],[-94.895566,29.310638],[-95.081782,29.113469],[-95.383014,28.867006],[-95.985477,28.604113],[-96.045724,28.647929],[-96.226463,28.582205],[-96.23194,28.642452],[-96.478402,28.598636],[-96.593418,28.724606],[-96.664618,28.697221],[-96.401725,28.439805],[-96.593418,28.357651],[-96.774157,28.406943],[-96.801542,28.226204],[-97.026096,28.039988],[-97.256128,27.694941],[-97.404005,27.333463],[-97.513544,27.360848],[-97.540929,27.229401],[-97.425913,27.262263],[-97.480682,26.99937],[-97.557359,26.988416],[-97.562836,26.840538],[-97.469728,26.758384],[-97.442344,26.457153],[-97.332805,26.353091],[-97.30542,26.161398],[-97.217789,25.991613],[-97.524498,25.887551],[-97.650467,26.018997],[-97.885976,26.06829],[-98.198161,26.057336],[-98.466531,26.221644],[-98.669178,26.238075],[-98.822533,26.369522],[-99.030656,26.413337],[-99.173057,26.539307],[-99.266165,26.840538],[-99.446904,27.021277],[-99.424996,27.174632],[-99.50715,27.33894],[-99.479765,27.48134],[-99.605735,27.640172],[-99.709797,27.656603],[-99.879582,27.799003],[-99.934351,27.979742],[-100.082229,28.14405],[-100.29583,28.280974],[-100.399891,28.582205],[-100.498476,28.66436],[-100.629923,28.905345],[-100.673738,29.102515],[-100.799708,29.244915],[-101.013309,29.370885],[-101.062601,29.458516],[-101.259771,29.535193],[-101.413125,29.754271],[-101.851281,29.803563],[-102.114174,29.792609],[-102.338728,29.869286],[-102.388021,29.765225],[-102.629006,29.732363],[-102.809745,29.524239],[-102.919284,29.190146],[-102.97953,29.184669],[-103.116454,28.987499],[-103.280762,28.982022],[-103.527224,29.135376],[-104.146119,29.381839],[-104.266611,29.513285],[-104.507597,29.639255],[-104.677382,29.924056],[-104.688336,30.181472],[-104.858121,30.389596],[-104.896459,30.570335],[-105.005998,30.685351],[-105.394861,30.855136],[-105.602985,31.085167],[-105.77277,31.167321],[-105.953509,31.364491],[-106.205448,31.468553],[-106.38071,31.731446],[-106.528588,31.786216],[-106.643603,31.901231],[-106.616219,31.999816],[-103.067161,31.999816],[-103.067161,33.002096],[-103.045254,34.01533],[-103.039777,36.501861],[-103.001438,36.501861],[-101.812942,36.501861]]]},\"bbox\":[-106.643603,25.887551,-93.526331,36.501861]}],\"bbox\":[-124.410798,25.887551,-72.100541,45.018503]},\"hovertemplate\":\"\\u003cb\\u003e%{hovertext}\\u003c\\u002fb\\u003e\\u003cbr\\u003e\\u003cbr\\u003eid=%{location}\\u003cbr\\u003eFrequency=%{z}\\u003cextra\\u003e\\u003c\\u002fextra\\u003e\",\"hovertext\":[\"Arizona\",\"California\",\"Illinois\",\"New York\",\"Pennsylvania\",\"Texas\"],\"locations\":[\"AZ\",\"CA\",\"IL\",\"NY\",\"PA\",\"TX\"],\"name\":\"\",\"z\":[3887.0,11685.0,3781.0,3690.0,3767.0,11403.0],\"type\":\"choropleth\"}],                        {\"template\":{\"data\":{\"histogram2dcontour\":[{\"type\":\"histogram2dcontour\",\"colorbar\":{\"outlinewidth\":0,\"ticks\":\"\"},\"colorscale\":[[0.0,\"#0d0887\"],[0.1111111111111111,\"#46039f\"],[0.2222222222222222,\"#7201a8\"],[0.3333333333333333,\"#9c179e\"],[0.4444444444444444,\"#bd3786\"],[0.5555555555555556,\"#d8576b\"],[0.6666666666666666,\"#ed7953\"],[0.7777777777777778,\"#fb9f3a\"],[0.8888888888888888,\"#fdca26\"],[1.0,\"#f0f921\"]]}],\"choropleth\":[{\"type\":\"choropleth\",\"colorbar\":{\"outlinewidth\":0,\"ticks\":\"\"}}],\"histogram2d\":[{\"type\":\"histogram2d\",\"colorbar\":{\"outlinewidth\":0,\"ticks\":\"\"},\"colorscale\":[[0.0,\"#0d0887\"],[0.1111111111111111,\"#46039f\"],[0.2222222222222222,\"#7201a8\"],[0.3333333333333333,\"#9c179e\"],[0.4444444444444444,\"#bd3786\"],[0.5555555555555556,\"#d8576b\"],[0.6666666666666666,\"#ed7953\"],[0.7777777777777778,\"#fb9f3a\"],[0.8888888888888888,\"#fdca26\"],[1.0,\"#f0f921\"]]}],\"heatmap\":[{\"type\":\"heatmap\",\"colorbar\":{\"outlinewidth\":0,\"ticks\":\"\"},\"colorscale\":[[0.0,\"#0d0887\"],[0.1111111111111111,\"#46039f\"],[0.2222222222222222,\"#7201a8\"],[0.3333333333333333,\"#9c179e\"],[0.4444444444444444,\"#bd3786\"],[0.5555555555555556,\"#d8576b\"],[0.6666666666666666,\"#ed7953\"],[0.7777777777777778,\"#fb9f3a\"],[0.8888888888888888,\"#fdca26\"],[1.0,\"#f0f921\"]]}],\"heatmapgl\":[{\"type\":\"heatmapgl\",\"colorbar\":{\"outlinewidth\":0,\"ticks\":\"\"},\"colorscale\":[[0.0,\"#0d0887\"],[0.1111111111111111,\"#46039f\"],[0.2222222222222222,\"#7201a8\"],[0.3333333333333333,\"#9c179e\"],[0.4444444444444444,\"#bd3786\"],[0.5555555555555556,\"#d8576b\"],[0.6666666666666666,\"#ed7953\"],[0.7777777777777778,\"#fb9f3a\"],[0.8888888888888888,\"#fdca26\"],[1.0,\"#f0f921\"]]}],\"contourcarpet\":[{\"type\":\"contourcarpet\",\"colorbar\":{\"outlinewidth\":0,\"ticks\":\"\"}}],\"contour\":[{\"type\":\"contour\",\"colorbar\":{\"outlinewidth\":0,\"ticks\":\"\"},\"colorscale\":[[0.0,\"#0d0887\"],[0.1111111111111111,\"#46039f\"],[0.2222222222222222,\"#7201a8\"],[0.3333333333333333,\"#9c179e\"],[0.4444444444444444,\"#bd3786\"],[0.5555555555555556,\"#d8576b\"],[0.6666666666666666,\"#ed7953\"],[0.7777777777777778,\"#fb9f3a\"],[0.8888888888888888,\"#fdca26\"],[1.0,\"#f0f921\"]]}],\"surface\":[{\"type\":\"surface\",\"colorbar\":{\"outlinewidth\":0,\"ticks\":\"\"},\"colorscale\":[[0.0,\"#0d0887\"],[0.1111111111111111,\"#46039f\"],[0.2222222222222222,\"#7201a8\"],[0.3333333333333333,\"#9c179e\"],[0.4444444444444444,\"#bd3786\"],[0.5555555555555556,\"#d8576b\"],[0.6666666666666666,\"#ed7953\"],[0.7777777777777778,\"#fb9f3a\"],[0.8888888888888888,\"#fdca26\"],[1.0,\"#f0f921\"]]}],\"mesh3d\":[{\"type\":\"mesh3d\",\"colorbar\":{\"outlinewidth\":0,\"ticks\":\"\"}}],\"scatter\":[{\"fillpattern\":{\"fillmode\":\"overlay\",\"size\":10,\"solidity\":0.2},\"type\":\"scatter\"}],\"parcoords\":[{\"type\":\"parcoords\",\"line\":{\"colorbar\":{\"outlinewidth\":0,\"ticks\":\"\"}}}],\"scatterpolargl\":[{\"type\":\"scatterpolargl\",\"marker\":{\"colorbar\":{\"outlinewidth\":0,\"ticks\":\"\"}}}],\"bar\":[{\"error_x\":{\"color\":\"#2a3f5f\"},\"error_y\":{\"color\":\"#2a3f5f\"},\"marker\":{\"line\":{\"color\":\"#E5ECF6\",\"width\":0.5},\"pattern\":{\"fillmode\":\"overlay\",\"size\":10,\"solidity\":0.2}},\"type\":\"bar\"}],\"scattergeo\":[{\"type\":\"scattergeo\",\"marker\":{\"colorbar\":{\"outlinewidth\":0,\"ticks\":\"\"}}}],\"scatterpolar\":[{\"type\":\"scatterpolar\",\"marker\":{\"colorbar\":{\"outlinewidth\":0,\"ticks\":\"\"}}}],\"histogram\":[{\"marker\":{\"pattern\":{\"fillmode\":\"overlay\",\"size\":10,\"solidity\":0.2}},\"type\":\"histogram\"}],\"scattergl\":[{\"type\":\"scattergl\",\"marker\":{\"colorbar\":{\"outlinewidth\":0,\"ticks\":\"\"}}}],\"scatter3d\":[{\"type\":\"scatter3d\",\"line\":{\"colorbar\":{\"outlinewidth\":0,\"ticks\":\"\"}},\"marker\":{\"colorbar\":{\"outlinewidth\":0,\"ticks\":\"\"}}}],\"scattermapbox\":[{\"type\":\"scattermapbox\",\"marker\":{\"colorbar\":{\"outlinewidth\":0,\"ticks\":\"\"}}}],\"scatterternary\":[{\"type\":\"scatterternary\",\"marker\":{\"colorbar\":{\"outlinewidth\":0,\"ticks\":\"\"}}}],\"scattercarpet\":[{\"type\":\"scattercarpet\",\"marker\":{\"colorbar\":{\"outlinewidth\":0,\"ticks\":\"\"}}}],\"carpet\":[{\"aaxis\":{\"endlinecolor\":\"#2a3f5f\",\"gridcolor\":\"white\",\"linecolor\":\"white\",\"minorgridcolor\":\"white\",\"startlinecolor\":\"#2a3f5f\"},\"baxis\":{\"endlinecolor\":\"#2a3f5f\",\"gridcolor\":\"white\",\"linecolor\":\"white\",\"minorgridcolor\":\"white\",\"startlinecolor\":\"#2a3f5f\"},\"type\":\"carpet\"}],\"table\":[{\"cells\":{\"fill\":{\"color\":\"#EBF0F8\"},\"line\":{\"color\":\"white\"}},\"header\":{\"fill\":{\"color\":\"#C8D4E3\"},\"line\":{\"color\":\"white\"}},\"type\":\"table\"}],\"barpolar\":[{\"marker\":{\"line\":{\"color\":\"#E5ECF6\",\"width\":0.5},\"pattern\":{\"fillmode\":\"overlay\",\"size\":10,\"solidity\":0.2}},\"type\":\"barpolar\"}],\"pie\":[{\"automargin\":true,\"type\":\"pie\"}]},\"layout\":{\"autotypenumbers\":\"strict\",\"colorway\":[\"#636efa\",\"#EF553B\",\"#00cc96\",\"#ab63fa\",\"#FFA15A\",\"#19d3f3\",\"#FF6692\",\"#B6E880\",\"#FF97FF\",\"#FECB52\"],\"font\":{\"color\":\"#2a3f5f\"},\"hovermode\":\"closest\",\"hoverlabel\":{\"align\":\"left\"},\"paper_bgcolor\":\"white\",\"plot_bgcolor\":\"#E5ECF6\",\"polar\":{\"bgcolor\":\"#E5ECF6\",\"angularaxis\":{\"gridcolor\":\"white\",\"linecolor\":\"white\",\"ticks\":\"\"},\"radialaxis\":{\"gridcolor\":\"white\",\"linecolor\":\"white\",\"ticks\":\"\"}},\"ternary\":{\"bgcolor\":\"#E5ECF6\",\"aaxis\":{\"gridcolor\":\"white\",\"linecolor\":\"white\",\"ticks\":\"\"},\"baxis\":{\"gridcolor\":\"white\",\"linecolor\":\"white\",\"ticks\":\"\"},\"caxis\":{\"gridcolor\":\"white\",\"linecolor\":\"white\",\"ticks\":\"\"}},\"coloraxis\":{\"colorbar\":{\"outlinewidth\":0,\"ticks\":\"\"}},\"colorscale\":{\"sequential\":[[0.0,\"#0d0887\"],[0.1111111111111111,\"#46039f\"],[0.2222222222222222,\"#7201a8\"],[0.3333333333333333,\"#9c179e\"],[0.4444444444444444,\"#bd3786\"],[0.5555555555555556,\"#d8576b\"],[0.6666666666666666,\"#ed7953\"],[0.7777777777777778,\"#fb9f3a\"],[0.8888888888888888,\"#fdca26\"],[1.0,\"#f0f921\"]],\"sequentialminus\":[[0.0,\"#0d0887\"],[0.1111111111111111,\"#46039f\"],[0.2222222222222222,\"#7201a8\"],[0.3333333333333333,\"#9c179e\"],[0.4444444444444444,\"#bd3786\"],[0.5555555555555556,\"#d8576b\"],[0.6666666666666666,\"#ed7953\"],[0.7777777777777778,\"#fb9f3a\"],[0.8888888888888888,\"#fdca26\"],[1.0,\"#f0f921\"]],\"diverging\":[[0,\"#8e0152\"],[0.1,\"#c51b7d\"],[0.2,\"#de77ae\"],[0.3,\"#f1b6da\"],[0.4,\"#fde0ef\"],[0.5,\"#f7f7f7\"],[0.6,\"#e6f5d0\"],[0.7,\"#b8e186\"],[0.8,\"#7fbc41\"],[0.9,\"#4d9221\"],[1,\"#276419\"]]},\"xaxis\":{\"gridcolor\":\"white\",\"linecolor\":\"white\",\"ticks\":\"\",\"title\":{\"standoff\":15},\"zerolinecolor\":\"white\",\"automargin\":true,\"zerolinewidth\":2},\"yaxis\":{\"gridcolor\":\"white\",\"linecolor\":\"white\",\"ticks\":\"\",\"title\":{\"standoff\":15},\"zerolinecolor\":\"white\",\"automargin\":true,\"zerolinewidth\":2},\"scene\":{\"xaxis\":{\"backgroundcolor\":\"#E5ECF6\",\"gridcolor\":\"white\",\"linecolor\":\"white\",\"showbackground\":true,\"ticks\":\"\",\"zerolinecolor\":\"white\",\"gridwidth\":2},\"yaxis\":{\"backgroundcolor\":\"#E5ECF6\",\"gridcolor\":\"white\",\"linecolor\":\"white\",\"showbackground\":true,\"ticks\":\"\",\"zerolinecolor\":\"white\",\"gridwidth\":2},\"zaxis\":{\"backgroundcolor\":\"#E5ECF6\",\"gridcolor\":\"white\",\"linecolor\":\"white\",\"showbackground\":true,\"ticks\":\"\",\"zerolinecolor\":\"white\",\"gridwidth\":2}},\"shapedefaults\":{\"line\":{\"color\":\"#2a3f5f\"}},\"annotationdefaults\":{\"arrowcolor\":\"#2a3f5f\",\"arrowhead\":0,\"arrowwidth\":1},\"geo\":{\"bgcolor\":\"white\",\"landcolor\":\"#E5ECF6\",\"subunitcolor\":\"white\",\"showland\":true,\"showlakes\":true,\"lakecolor\":\"white\"},\"title\":{\"x\":0.05},\"mapbox\":{\"style\":\"light\"}}},\"geo\":{\"domain\":{\"x\":[0.0,1.0],\"y\":[0.0,1.0]},\"center\":{},\"fitbounds\":\"locations\"},\"coloraxis\":{\"colorbar\":{\"title\":{\"text\":\"Frequency\"}},\"colorscale\":[[0.0,\"#440154\"],[0.1111111111111111,\"#482878\"],[0.2222222222222222,\"#3e4989\"],[0.3333333333333333,\"#31688e\"],[0.4444444444444444,\"#26828e\"],[0.5555555555555556,\"#1f9e89\"],[0.6666666666666666,\"#35b779\"],[0.7777777777777778,\"#6ece58\"],[0.8888888888888888,\"#b5de2b\"],[1.0,\"#fde725\"]]},\"legend\":{\"tracegroupgap\":0},\"title\":{\"text\":\"Frequency of Purchases by State (USA)\"}},                        {\"responsive\": true}                    ).then(function(){\n",
       "                            \n",
       "var gd = document.getElementById('2ad23c5e-9fbb-42b9-b05a-f727aa7b3ff5');\n",
       "var x = new MutationObserver(function (mutations, observer) {{\n",
       "        var display = window.getComputedStyle(gd).display;\n",
       "        if (!display || display === 'none') {{\n",
       "            console.log([gd, 'removed!']);\n",
       "            Plotly.purge(gd);\n",
       "            observer.disconnect();\n",
       "        }}\n",
       "}});\n",
       "\n",
       "// Listen for the removal of the full notebook cells\n",
       "var notebookContainer = gd.closest('#notebook-container');\n",
       "if (notebookContainer) {{\n",
       "    x.observe(notebookContainer, {childList: true});\n",
       "}}\n",
       "\n",
       "// Listen for the clearing of the current output cell\n",
       "var outputEl = gd.closest('.output');\n",
       "if (outputEl) {{\n",
       "    x.observe(outputEl, {childList: true});\n",
       "}}\n",
       "\n",
       "                        })                };                });            </script>        </div>"
      ]
     },
     "metadata": {},
     "output_type": "display_data"
    }
   ],
   "source": [
    "fig = px.choropleth(\n",
    "    clean_merged, \n",
    "    geojson=clean_merged.geometry, \n",
    "    locations=clean_merged.index, \n",
    "    color=\"Frequency\",\n",
    "    title=\"Frequency of Purchases by State (USA)\",\n",
    "    hover_name=\"name\",\n",
    "    color_continuous_scale=\"Viridis\"\n",
    ")\n",
    "fig.update_geos(\n",
    "    fitbounds=\"locations\", \n",
    ")\n",
    "fig.show()"
   ]
  },
  {
   "cell_type": "markdown",
   "id": "85d54c09-a7c2-43d8-9ccf-39bbdaaf8aa5",
   "metadata": {},
   "source": [
    "From the choropleth map, we can see that the most purchases occured in the west coast area, with California holding the maximum of 11.685k purchases. On the other hand, the north east corner of the US seems to make less purchases, with Illinois and Pensylvania combined barely reaching 8000 purchases.\n",
    "Next, let's look at the relationships between gender and product category of item purchased. First, the genderproductcategory table is created on MySQL, counting the frequencies at which individuals of a certain gender purchased an item part of a specific product category. Then, the aggregated data is grouped & sorted by gender and product category. Then in Jupyter Notebook, we will take this table and transform it to be more useful to us for creating a bar chart."
   ]
  },
  {
   "cell_type": "code",
   "execution_count": 67,
   "id": "e44d3c41-2c08-44a7-a60c-09874d071945",
   "metadata": {},
   "outputs": [
    {
     "data": {
      "text/html": [
       "<div>\n",
       "<style scoped>\n",
       "    .dataframe tbody tr th:only-of-type {\n",
       "        vertical-align: middle;\n",
       "    }\n",
       "\n",
       "    .dataframe tbody tr th {\n",
       "        vertical-align: top;\n",
       "    }\n",
       "\n",
       "    .dataframe thead th {\n",
       "        text-align: right;\n",
       "    }\n",
       "</style>\n",
       "<table border=\"1\" class=\"dataframe\">\n",
       "  <thead>\n",
       "    <tr style=\"text-align: right;\">\n",
       "      <th></th>\n",
       "      <th>Gender</th>\n",
       "      <th>ProductCategory</th>\n",
       "      <th>PurchaseFrequency</th>\n",
       "    </tr>\n",
       "  </thead>\n",
       "  <tbody>\n",
       "    <tr>\n",
       "      <th>0</th>\n",
       "      <td>Female</td>\n",
       "      <td>Books</td>\n",
       "      <td>3182</td>\n",
       "    </tr>\n",
       "    <tr>\n",
       "      <th>1</th>\n",
       "      <td>Female</td>\n",
       "      <td>Clothing</td>\n",
       "      <td>3299</td>\n",
       "    </tr>\n",
       "    <tr>\n",
       "      <th>2</th>\n",
       "      <td>Female</td>\n",
       "      <td>Electronics</td>\n",
       "      <td>3159</td>\n",
       "    </tr>\n",
       "    <tr>\n",
       "      <th>3</th>\n",
       "      <td>Female</td>\n",
       "      <td>Groceries</td>\n",
       "      <td>3224</td>\n",
       "    </tr>\n",
       "    <tr>\n",
       "      <th>4</th>\n",
       "      <td>Female</td>\n",
       "      <td>Health &amp; Beauty</td>\n",
       "      <td>3163</td>\n",
       "    </tr>\n",
       "    <tr>\n",
       "      <th>5</th>\n",
       "      <td>Female</td>\n",
       "      <td>Home &amp; Kitchen</td>\n",
       "      <td>3184</td>\n",
       "    </tr>\n",
       "    <tr>\n",
       "      <th>6</th>\n",
       "      <td>Male</td>\n",
       "      <td>Books</td>\n",
       "      <td>3150</td>\n",
       "    </tr>\n",
       "    <tr>\n",
       "      <th>7</th>\n",
       "      <td>Male</td>\n",
       "      <td>Clothing</td>\n",
       "      <td>3073</td>\n",
       "    </tr>\n",
       "    <tr>\n",
       "      <th>8</th>\n",
       "      <td>Male</td>\n",
       "      <td>Electronics</td>\n",
       "      <td>3232</td>\n",
       "    </tr>\n",
       "    <tr>\n",
       "      <th>9</th>\n",
       "      <td>Male</td>\n",
       "      <td>Groceries</td>\n",
       "      <td>3167</td>\n",
       "    </tr>\n",
       "    <tr>\n",
       "      <th>10</th>\n",
       "      <td>Male</td>\n",
       "      <td>Health &amp; Beauty</td>\n",
       "      <td>3176</td>\n",
       "    </tr>\n",
       "    <tr>\n",
       "      <th>11</th>\n",
       "      <td>Male</td>\n",
       "      <td>Home &amp; Kitchen</td>\n",
       "      <td>3204</td>\n",
       "    </tr>\n",
       "  </tbody>\n",
       "</table>\n",
       "</div>"
      ],
      "text/plain": [
       "    Gender  ProductCategory  PurchaseFrequency\n",
       "0   Female            Books               3182\n",
       "1   Female         Clothing               3299\n",
       "2   Female      Electronics               3159\n",
       "3   Female        Groceries               3224\n",
       "4   Female  Health & Beauty               3163\n",
       "5   Female   Home & Kitchen               3184\n",
       "6     Male            Books               3150\n",
       "7     Male         Clothing               3073\n",
       "8     Male      Electronics               3232\n",
       "9     Male        Groceries               3167\n",
       "10    Male  Health & Beauty               3176\n",
       "11    Male   Home & Kitchen               3204"
      ]
     },
     "execution_count": 67,
     "metadata": {},
     "output_type": "execute_result"
    }
   ],
   "source": [
    "query = \"SELECT * FROM genderproductcategory\"\n",
    "gender_df = pd.read_sql(query, engine)\n",
    "gender_df.head(12)"
   ]
  },
  {
   "cell_type": "code",
   "execution_count": 72,
   "id": "62db3326-b801-40e6-948d-e31c038eebfd",
   "metadata": {},
   "outputs": [
    {
     "name": "stdout",
     "output_type": "stream",
     "text": [
      "Gender           Female  Male\n",
      "ProductCategory              \n",
      "Books              3182  3150\n",
      "Clothing           3299  3073\n",
      "Electronics        3159  3232\n",
      "Groceries          3224  3167\n",
      "Health & Beauty    3163  3176\n",
      "Home & Kitchen     3184  3204\n"
     ]
    }
   ],
   "source": [
    "# rearranging the set up of the table so now we have two groups for the bar chart: Female and Male\n",
    "pivot_data = gender_df.pivot(index=\"ProductCategory\", columns=\"Gender\", values=\"PurchaseFrequency\")\n",
    "print(pivot_data)"
   ]
  },
  {
   "cell_type": "code",
   "execution_count": 78,
   "id": "acf46423-7e6f-4810-8447-ba33298f6bd6",
   "metadata": {},
   "outputs": [
    {
     "data": {
      "image/png": "[encoded data removed]",
      "text/plain": [
       "<Figure size 1000x600 with 1 Axes>"
      ]
     },
     "metadata": {},
     "output_type": "display_data"
    }
   ],
   "source": [
    "pivot_data.plot(kind=\"bar\", figsize=(10, 6), color=[\"blue\", \"pink\"])\n",
    "\n",
    "# Title and labels\n",
    "plt.title(\"Product Categories by Gender\")\n",
    "plt.ylabel(\"Frequency\")\n",
    "plt.xlabel(\"Product Category\")\n",
    "plt.xticks(rotation=45)  \n",
    "plt.legend(title=\"Gender\")  \n",
    "plt.tight_layout() \n",
    "plt.show()"
   ]
  },
  {
   "cell_type": "markdown",
   "id": "60166310-1763-4c3d-9552-c8543592be6f",
   "metadata": {},
   "source": [
    "Perhaps surprisingly, the bars of men and women are quite equal! Traditionally, women are often correlated with clothing/health & beauty products. However, the bar chart tells us that women purchase those products just as regularly (if not less), than men. However, it is important to note that this bar chart does not tell us how much each gender is <b>spending</b> on each category. Even though the frequencies are similar, it's possible that one gender spends more money on a certain category than the other. This dataset does not provide us with the information needed to investigate this. \n",
    "<br>Moving to a less consumer focused perspective, let's consider the relationship between product cost, price, profit, and profit margin. However, it is important to understand these categories first before we dive into our analysis.\n",
    "<br> According to indeed.com, [product cost](https://www.indeed.com/career-advice/career-development/product-cost-definitive-guide-example#:~:text=Product%20cost%20is%20an%20accounting,materials%2C%20labor%20and%20manufacturing%20overhead.) refers to the total costs involved in making a product and getting it ready for sale. Product price is how much a product is selling for, [profit](https://www.indeed.com/career-advice/career-development/what-is-profit#:~:text=Profit%20is%20the%20remaining%20revenue,the%20company's%20owner%20or%20owners.) is the remaining revenue after expenses have been accounted for, and [profit margin](https://uk.indeed.com/career-advice/career-development/what-is-profit-margin#:~:text=The%20profit%20margin%20is%20the,over%20a%20given%20time%20period.) describes the percentage of sales that is profit.\n"
   ]
  },
  {
   "cell_type": "code",
   "execution_count": 3,
   "id": "a19d160c-4999-474e-ad52-0cefd6950116",
   "metadata": {},
   "outputs": [
    {
     "data": {
      "text/html": [
       "<div>\n",
       "<style scoped>\n",
       "    .dataframe tbody tr th:only-of-type {\n",
       "        vertical-align: middle;\n",
       "    }\n",
       "\n",
       "    .dataframe tbody tr th {\n",
       "        vertical-align: top;\n",
       "    }\n",
       "\n",
       "    .dataframe thead th {\n",
       "        text-align: right;\n",
       "    }\n",
       "</style>\n",
       "<table border=\"1\" class=\"dataframe\">\n",
       "  <thead>\n",
       "    <tr style=\"text-align: right;\">\n",
       "      <th></th>\n",
       "      <th>ProductCost</th>\n",
       "      <th>ProductPrice</th>\n",
       "      <th>Profit</th>\n",
       "      <th>ProfitMargin</th>\n",
       "    </tr>\n",
       "  </thead>\n",
       "  <tbody>\n",
       "    <tr>\n",
       "      <th>0</th>\n",
       "      <td>109.10</td>\n",
       "      <td>147.43</td>\n",
       "      <td>38.33</td>\n",
       "      <td>0.26</td>\n",
       "    </tr>\n",
       "    <tr>\n",
       "      <th>1</th>\n",
       "      <td>398.07</td>\n",
       "      <td>402.09</td>\n",
       "      <td>4.02</td>\n",
       "      <td>0.01</td>\n",
       "    </tr>\n",
       "    <tr>\n",
       "      <th>2</th>\n",
       "      <td>958.45</td>\n",
       "      <td>958.45</td>\n",
       "      <td>0.00</td>\n",
       "      <td>0.00</td>\n",
       "    </tr>\n",
       "    <tr>\n",
       "      <th>3</th>\n",
       "      <td>544.17</td>\n",
       "      <td>544.17</td>\n",
       "      <td>0.00</td>\n",
       "      <td>0.00</td>\n",
       "    </tr>\n",
       "    <tr>\n",
       "      <th>4</th>\n",
       "      <td>645.75</td>\n",
       "      <td>645.75</td>\n",
       "      <td>0.00</td>\n",
       "      <td>0.00</td>\n",
       "    </tr>\n",
       "  </tbody>\n",
       "</table>\n",
       "</div>"
      ],
      "text/plain": [
       "   ProductCost  ProductPrice  Profit  ProfitMargin\n",
       "0       109.10        147.43   38.33          0.26\n",
       "1       398.07        402.09    4.02          0.01\n",
       "2       958.45        958.45    0.00          0.00\n",
       "3       544.17        544.17    0.00          0.00\n",
       "4       645.75        645.75    0.00          0.00"
      ]
     },
     "execution_count": 3,
     "metadata": {},
     "output_type": "execute_result"
    }
   ],
   "source": [
    "query = \"SELECT * FROM ProductFinancials\"\n",
    "productfinancials_df = pd.read_sql(query, engine)\n",
    "productfinancials_df.head()"
   ]
  },
  {
   "cell_type": "markdown",
   "id": "57b02cdc-5e36-4615-b04b-47c0e6954158",
   "metadata": {},
   "source": [
    "The table above named ProductFinancials displays ProductCost, ProductPrice, Profit and ProfitMargin. The first three columns are taken directly from the retail_data table. ProfitMargin was calculated in MySQL using the equation:\n",
    "$$\n",
    "  Profit\\:Margins = Profit/Product\\:Price\n",
    "$$\n",
    "Through visualizations, the ProductFinancials can tell us how profitable products are, how often retailers make zero profit, and which product categories frequently have high profit margins.\n",
    "\n",
    "To start us off, below is a scatter plot of ProfitCost vs ProductPrice. The two have a generally linear relationship as illustrated by the regression line. Notice that the red regression line is very similar to the yellow dotted line, which represents the line y=x. According to the regression line, the firms in this dataset are generally earning a small amount of profit. Most data points lie above the yellow line, signaling that most, if not all firms in this dataset are breaking-even. A quick look at the summary of the dataframe using .describe confirms this. The minimum profit is $0.00\n",
    "<br> A more indepth analysis on specific industries can be done by plotting the cost and price of specific product categories."
   ]
  },
  {
   "cell_type": "code",
   "execution_count": 37,
   "id": "80f88a58-a478-45df-b65c-933312dfced0",
   "metadata": {},
   "outputs": [
    {
     "data": {
      "image/png": "[encoded data removed]",
      "text/plain": [
       "<Figure size 640x480 with 1 Axes>"
      ]
     },
     "metadata": {},
     "output_type": "display_data"
    }
   ],
   "source": [
    "plt.scatter(productfinancials_df[\"ProductCost\"], productfinancials_df[\"ProductPrice\"], color=\"blue\", alpha=0.5)\n",
    "\n",
    "# Fitting a regression line (using np.polyfit to get the line equation)\n",
    "slope, intercept = np.polyfit(productfinancials_df[\"ProductCost\"], productfinancials_df[\"ProductPrice\"], 1)\n",
    "plt.plot(productfinancials_df[\"ProductCost\"], slope * productfinancials_df[\"ProductCost\"] + intercept, color=\"red\", label=\"Regression Line\")\n",
    "\n",
    "# Plotting the y = x line\n",
    "plt.plot(productfinancials_df[\"ProductCost\"], productfinancials_df[\"ProductCost\"], color=\"yellow\", linestyle=\"--\", label=\"y = x\")\n",
    "\n",
    "# Titles and labels\n",
    "plt.title(\"Profit Cost vs. Product Price\")\n",
    "plt.xlabel(\"Product Cost\")\n",
    "plt.ylabel(\"Product Price\")\n",
    "\n",
    "plt.legend()\n",
    "plt.show()\n"
   ]
  },
  {
   "cell_type": "code",
   "execution_count": 35,
   "id": "ff80109b-705b-4559-8a43-61fb7b0dc0cd",
   "metadata": {},
   "outputs": [
    {
     "name": "stdout",
     "output_type": "stream",
     "text": [
      "        ProductCost  ProductPrice        Profit  ProfitMargin\n",
      "count  38213.000000  38213.000000  38213.000000  38213.000000\n",
      "mean     465.679518    503.097126     37.417608      0.074488\n",
      "std      271.014141    286.080256     60.219161      0.097745\n",
      "min        7.580000     10.030000      0.000000      0.000000\n",
      "25%      232.270000    254.210000      0.000000      0.000000\n",
      "50%      458.200000    502.670000      0.000000      0.000000\n",
      "75%      688.410000    752.180000     55.610000      0.150000\n",
      "max      999.810000    999.970000    299.790000      0.300000\n"
     ]
    }
   ],
   "source": [
    "print(productfinancials_df.describe())"
   ]
  },
  {
   "cell_type": "markdown",
   "id": "3c063134-59f5-467d-9546-c7c4b5440cb7",
   "metadata": {},
   "source": [
    "Instead of graphing every single product category, let's take a look at the big picture, and zoom into any interesting results. The following is a bar graph that shows the average profit margin of each product category (Books, Clothing, Electronics, Groceries, Health & Beauty, Home & Kitchen)."
   ]
  },
  {
   "cell_type": "code",
   "execution_count": 31,
   "id": "936da61e-390a-4b9f-adcb-646dd232ea30",
   "metadata": {},
   "outputs": [
    {
     "data": {
      "text/html": [
       "<div>\n",
       "<style scoped>\n",
       "    .dataframe tbody tr th:only-of-type {\n",
       "        vertical-align: middle;\n",
       "    }\n",
       "\n",
       "    .dataframe tbody tr th {\n",
       "        vertical-align: top;\n",
       "    }\n",
       "\n",
       "    .dataframe thead th {\n",
       "        text-align: right;\n",
       "    }\n",
       "</style>\n",
       "<table border=\"1\" class=\"dataframe\">\n",
       "  <thead>\n",
       "    <tr style=\"text-align: right;\">\n",
       "      <th></th>\n",
       "      <th>ProductCategory</th>\n",
       "      <th>ProfitMargin</th>\n",
       "    </tr>\n",
       "  </thead>\n",
       "  <tbody>\n",
       "    <tr>\n",
       "      <th>0</th>\n",
       "      <td>Books</td>\n",
       "      <td>0.073247</td>\n",
       "    </tr>\n",
       "    <tr>\n",
       "      <th>1</th>\n",
       "      <td>Clothing</td>\n",
       "      <td>0.074093</td>\n",
       "    </tr>\n",
       "    <tr>\n",
       "      <th>2</th>\n",
       "      <td>Electronics</td>\n",
       "      <td>0.074317</td>\n",
       "    </tr>\n",
       "    <tr>\n",
       "      <th>3</th>\n",
       "      <td>Groceries</td>\n",
       "      <td>0.075117</td>\n",
       "    </tr>\n",
       "    <tr>\n",
       "      <th>4</th>\n",
       "      <td>Health &amp; Beauty</td>\n",
       "      <td>0.076269</td>\n",
       "    </tr>\n",
       "    <tr>\n",
       "      <th>5</th>\n",
       "      <td>Home &amp; Kitchen</td>\n",
       "      <td>0.073888</td>\n",
       "    </tr>\n",
       "  </tbody>\n",
       "</table>\n",
       "</div>"
      ],
      "text/plain": [
       "   ProductCategory  ProfitMargin\n",
       "0            Books      0.073247\n",
       "1         Clothing      0.074093\n",
       "2      Electronics      0.074317\n",
       "3        Groceries      0.075117\n",
       "4  Health & Beauty      0.076269\n",
       "5   Home & Kitchen      0.073888"
      ]
     },
     "execution_count": 31,
     "metadata": {},
     "output_type": "execute_result"
    }
   ],
   "source": [
    "retail_df['ProfitMargin'] = (retail_df['ProductPrice'] - retail_df['ProductCost']) / retail_df['ProductPrice']\n",
    "avg_profit_margin_by_category = retail_df.groupby('ProductCategory')['ProfitMargin'].mean().reset_index()\n",
    "avg_profit_margin_by_category.head(6)"
   ]
  },
  {
   "cell_type": "code",
   "execution_count": 38,
   "id": "b15d6102-d707-4616-a378-2203dac622b5",
   "metadata": {},
   "outputs": [
    {
     "data": {
      "image/png": "[encoded data removed]",
      "text/plain": [
       "<Figure size 1000x600 with 1 Axes>"
      ]
     },
     "metadata": {},
     "output_type": "display_data"
    }
   ],
   "source": [
    "plt.figure(figsize=(10, 6))\n",
    "plt.bar(avg_profit_margin_by_category['ProductCategory'], avg_profit_margin_by_category['ProfitMargin'])\n",
    "\n",
    "# Titles and labels\n",
    "plt.title('Average Profit Margin by Product Category', fontsize=16)\n",
    "plt.xlabel('Product Category', fontsize=12)\n",
    "plt.ylabel('Average Profit Margin', fontsize=12)\n",
    "plt.xticks(rotation=45) \n",
    "plt.show()"
   ]
  },
  {
   "cell_type": "markdown",
   "id": "3ad13e54-c3d2-4fa1-8085-37d5f258d1d1",
   "metadata": {},
   "source": [
    "From the Average Profit Margin by Product Category bar graph, we can see that the average profit margins are relatively the same. The most profitable category is the Health & Beauty category, which makes sense as those products are often more luxurious. The Books category has lower average marginal profits, possibly for a few reasons:\n",
    "- Books are often printed in bulk for lower production costs, but this large supply decreases prices, limiting the profit margin.\n",
    "- Physical books may be heavier than things like clothing or groceries, meaning the shipping costs may be eating into profits.\n",
    "\n",
    "There are also a few reasons as to why average profit margins are so similar across these different categories:\n",
    "- The data may be unreliable/inaccurate\n",
    "- The businesses selling products from these different categories may have similar pricing and cost strategies. Either by choice, or perhaps certain government regulations lead businesses to chosing this specific strategy\n",
    "- Although the bar graph shows that profit margins are similar across the 6 categories, it doesn't show us data that might demonstrate category-specific differences such as marketing efforts or seasonality.\n",
    "\n",
    "Let's take a look at average marketing expenditure by product category:\n"
   ]
  },
  {
   "cell_type": "code",
   "execution_count": 80,
   "id": "be7a9357-09ef-43c2-bb55-3ab1fcf35de9",
   "metadata": {},
   "outputs": [
    {
     "data": {
      "text/html": [
       "<div>\n",
       "<style scoped>\n",
       "    .dataframe tbody tr th:only-of-type {\n",
       "        vertical-align: middle;\n",
       "    }\n",
       "\n",
       "    .dataframe tbody tr th {\n",
       "        vertical-align: top;\n",
       "    }\n",
       "\n",
       "    .dataframe thead th {\n",
       "        text-align: right;\n",
       "    }\n",
       "</style>\n",
       "<table border=\"1\" class=\"dataframe\">\n",
       "  <thead>\n",
       "    <tr style=\"text-align: right;\">\n",
       "      <th></th>\n",
       "      <th>ProductCategory</th>\n",
       "      <th>AverageMarketingExpenditure</th>\n",
       "    </tr>\n",
       "  </thead>\n",
       "  <tbody>\n",
       "    <tr>\n",
       "      <th>0</th>\n",
       "      <td>Health &amp; Beauty</td>\n",
       "      <td>4948.662232</td>\n",
       "    </tr>\n",
       "    <tr>\n",
       "      <th>1</th>\n",
       "      <td>Groceries</td>\n",
       "      <td>5032.650925</td>\n",
       "    </tr>\n",
       "    <tr>\n",
       "      <th>2</th>\n",
       "      <td>Electronics</td>\n",
       "      <td>4981.213740</td>\n",
       "    </tr>\n",
       "    <tr>\n",
       "      <th>3</th>\n",
       "      <td>Books</td>\n",
       "      <td>5071.671456</td>\n",
       "    </tr>\n",
       "    <tr>\n",
       "      <th>4</th>\n",
       "      <td>Home &amp; Kitchen</td>\n",
       "      <td>5060.746310</td>\n",
       "    </tr>\n",
       "  </tbody>\n",
       "</table>\n",
       "</div>"
      ],
      "text/plain": [
       "   ProductCategory  AverageMarketingExpenditure\n",
       "0  Health & Beauty                  4948.662232\n",
       "1        Groceries                  5032.650925\n",
       "2      Electronics                  4981.213740\n",
       "3            Books                  5071.671456\n",
       "4   Home & Kitchen                  5060.746310"
      ]
     },
     "execution_count": 80,
     "metadata": {},
     "output_type": "execute_result"
    }
   ],
   "source": [
    "query = \"SELECT * FROM product_avg_marketing\"\n",
    "productavgmarket_df = pd.read_sql(query, engine)\n",
    "productavgmarket_df.head()"
   ]
  },
  {
   "cell_type": "code",
   "execution_count": 81,
   "id": "9cd42414-e2f0-4193-8a1d-b214265b7625",
   "metadata": {},
   "outputs": [
    {
     "data": {
      "image/png": "[encoded data removed]",
      "text/plain": [
       "<Figure size 1000x600 with 1 Axes>"
      ]
     },
     "metadata": {},
     "output_type": "display_data"
    }
   ],
   "source": [
    "plt.figure(figsize=(10,6))\n",
    "plt.bar(productavgmarket_df['ProductCategory'], productavgmarket_df['AverageMarketingExpenditure'], color='skyblue')\n",
    "\n",
    "# Title and labels\n",
    "plt.title('Average Marketing Expenditure by Product Category')\n",
    "plt.xlabel('Product Category')\n",
    "plt.ylabel('Average Marketing Expenditure')\n",
    "plt.xticks(rotation=45)\n",
    "\n",
    "plt.tight_layout()\n",
    "plt.show()"
   ]
  },
  {
   "cell_type": "markdown",
   "id": "cd079523-7338-4e15-a2ea-bf361e5df2db",
   "metadata": {},
   "source": [
    "Once again, there's not much difference between the categories! However, we can notice that the average marketing expenditure of the Books category is higher than that of the Health & Beauty category. This could explain why Books had smaller profit margins than Health & Beauty, because more was being spent on marketing. "
   ]
  },
  {
   "cell_type": "markdown",
   "id": "b43a0964-9a98-4b0b-8321-4499bda4de82",
   "metadata": {},
   "source": [
    "Let's look at time and profit margins."
   ]
  },
  {
   "cell_type": "code",
   "execution_count": 82,
   "id": "157c943f-05a7-4be6-a697-79bed6163197",
   "metadata": {},
   "outputs": [
    {
     "data": {
      "text/html": [
       "<div>\n",
       "<style scoped>\n",
       "    .dataframe tbody tr th:only-of-type {\n",
       "        vertical-align: middle;\n",
       "    }\n",
       "\n",
       "    .dataframe tbody tr th {\n",
       "        vertical-align: top;\n",
       "    }\n",
       "\n",
       "    .dataframe thead th {\n",
       "        text-align: right;\n",
       "    }\n",
       "</style>\n",
       "<table border=\"1\" class=\"dataframe\">\n",
       "  <thead>\n",
       "    <tr style=\"text-align: right;\">\n",
       "      <th></th>\n",
       "      <th>PurchaseDate</th>\n",
       "      <th>ProfitMargin</th>\n",
       "    </tr>\n",
       "  </thead>\n",
       "  <tbody>\n",
       "    <tr>\n",
       "      <th>0</th>\n",
       "      <td>2022-06-11</td>\n",
       "      <td>0.26</td>\n",
       "    </tr>\n",
       "    <tr>\n",
       "      <th>1</th>\n",
       "      <td>2023-06-05</td>\n",
       "      <td>0.01</td>\n",
       "    </tr>\n",
       "    <tr>\n",
       "      <th>2</th>\n",
       "      <td>2020-10-14</td>\n",
       "      <td>0.00</td>\n",
       "    </tr>\n",
       "    <tr>\n",
       "      <th>3</th>\n",
       "      <td>2021-08-27</td>\n",
       "      <td>0.00</td>\n",
       "    </tr>\n",
       "    <tr>\n",
       "      <th>4</th>\n",
       "      <td>2023-06-06</td>\n",
       "      <td>0.00</td>\n",
       "    </tr>\n",
       "  </tbody>\n",
       "</table>\n",
       "</div>"
      ],
      "text/plain": [
       "  PurchaseDate  ProfitMargin\n",
       "0   2022-06-11          0.26\n",
       "1   2023-06-05          0.01\n",
       "2   2020-10-14          0.00\n",
       "3   2021-08-27          0.00\n",
       "4   2023-06-06          0.00"
      ]
     },
     "execution_count": 82,
     "metadata": {},
     "output_type": "execute_result"
    }
   ],
   "source": [
    "query = \"SELECT * FROM ProfitMarginByDate\"\n",
    "pm_by_date_df = pd.read_sql(query, engine)\n",
    "pm_by_date_df.head()"
   ]
  },
  {
   "cell_type": "code",
   "execution_count": 83,
   "id": "44dc80b8-71fb-4eec-96c3-f89db42fa849",
   "metadata": {},
   "outputs": [
    {
     "data": {
      "image/png": "[encoded data removed]",
      "text/plain": [
       "<Figure size 1000x600 with 1 Axes>"
      ]
     },
     "metadata": {},
     "output_type": "display_data"
    }
   ],
   "source": [
    "plt.figure(figsize=(10,6))\n",
    "plt.plot(pm_by_date_df['PurchaseDate'], pm_by_date_df['ProfitMargin'], marker='o', linestyle='-', color='b', label='Profit Margin')\n",
    "\n",
    "# Adding title and labels\n",
    "plt.title('Profit Margin Over Time')\n",
    "plt.xlabel('Purchase Date')\n",
    "plt.ylabel('Profit Margin')\n",
    "\n",
    "# Format x-axis to display dates better\n",
    "plt.xticks(rotation=45)\n",
    "\n",
    "plt.tight_layout()\n",
    "plt.legend()\n",
    "plt.show()"
   ]
  },
  {
   "cell_type": "markdown",
   "id": "c7c60858-1721-4945-aa89-d2ae32fab036",
   "metadata": {},
   "source": [
    "This time plot doesn't tell us anything, so let's zoom into one specific year. Since 2023 doesn't have data on all the months, let's choose the next most recent year: 2022, and find the monthly average profit margins."
   ]
  },
  {
   "cell_type": "code",
   "execution_count": 84,
   "id": "79e7dcae-b806-485a-8bc6-6e373662869f",
   "metadata": {},
   "outputs": [
    {
     "name": "stdout",
     "output_type": "stream",
     "text": [
      "YearMonth\n",
      "2022-01    0.074241\n",
      "2022-02    0.075253\n",
      "2022-03    0.077968\n",
      "2022-04    0.076314\n",
      "2022-05    0.071610\n",
      "2022-06    0.077498\n",
      "2022-07    0.076530\n",
      "2022-08    0.076877\n",
      "2022-09    0.074113\n",
      "2022-10    0.075378\n",
      "2022-11    0.072773\n",
      "2022-12    0.073400\n",
      "Freq: M, Name: ProfitMargin, dtype: float64\n"
     ]
    }
   ],
   "source": [
    "df_2022 = pm_by_date_df[pm_by_date_df['PurchaseDate'].dt.year == 2022].copy()  # Ensure this is a proper copy\n",
    "df_2022['YearMonth'] = df_2022['PurchaseDate'].dt.to_period('M')\n",
    "monthly_avg_profit_margin = df_2022.groupby('YearMonth')['ProfitMargin'].mean()\n",
    "print(monthly_avg_profit_margin)\n"
   ]
  },
  {
   "cell_type": "code",
   "execution_count": 85,
   "id": "029f4c13-e42b-47e4-9642-87fbcceb6f61",
   "metadata": {},
   "outputs": [
    {
     "data": {
      "image/png": "[encoded data removed]",
      "text/plain": [
       "<Figure size 1000x600 with 1 Axes>"
      ]
     },
     "metadata": {},
     "output_type": "display_data"
    }
   ],
   "source": [
    "plt.figure(figsize=(10,6))\n",
    "plt.plot(monthly_avg_profit_margin.index.astype(str), monthly_avg_profit_margin.values, marker='o', linestyle='-', color='b', label='Average Profit Margin')\n",
    "\n",
    "# Title and labels\n",
    "plt.title('Monthly Average Profit Margin in 2022')\n",
    "plt.xlabel('Month')\n",
    "plt.ylabel('Average Profit Margin')\n",
    "plt.xticks(rotation=45)\n",
    "\n",
    "plt.tight_layout()\n",
    "plt.legend()\n",
    "plt.show()"
   ]
  },
  {
   "cell_type": "markdown",
   "id": "e663f889-29cc-4423-8324-6d2c7d436a51",
   "metadata": {},
   "source": [
    "The graph tells us that the firms in the retail data dataset experience the greatest average profit margins in the beginning of March, and the lowest average profit margins at the start of May. There are some possible explanations for this:\n",
    "- March could mark the beginning of many of these firms' spring sales\n",
    "- On the other hand, May is a transitional period between spring and summer, with firms seeing lower sales because summer sales have not begun yet, and spring sales have ended.\n",
    "- The previous point also explains why average profit margins are high in June.\n",
    "- There are many category-specific explanations. For example, the Groceries category may see decreases in average profit margin in May because of planting seasons & lack of harvesting.\n",
    "\n",
    "<br> Another approach to deciphering the Profit Margin over Time graph is to take the monthly rolling averages of profit margins, as shown below:"
   ]
  },
  {
   "cell_type": "code",
   "execution_count": 27,
   "id": "be26b439-29a2-4be9-8ceb-ea61d234d91d",
   "metadata": {},
   "outputs": [
    {
     "data": {
      "text/html": [
       "<div>\n",
       "<style scoped>\n",
       "    .dataframe tbody tr th:only-of-type {\n",
       "        vertical-align: middle;\n",
       "    }\n",
       "\n",
       "    .dataframe tbody tr th {\n",
       "        vertical-align: top;\n",
       "    }\n",
       "\n",
       "    .dataframe thead th {\n",
       "        text-align: right;\n",
       "    }\n",
       "</style>\n",
       "<table border=\"1\" class=\"dataframe\">\n",
       "  <thead>\n",
       "    <tr style=\"text-align: right;\">\n",
       "      <th></th>\n",
       "      <th>Month</th>\n",
       "      <th>RollingAvgProfitMargin</th>\n",
       "    </tr>\n",
       "  </thead>\n",
       "  <tbody>\n",
       "    <tr>\n",
       "      <th>0</th>\n",
       "      <td>2020-07</td>\n",
       "      <td>0.073057</td>\n",
       "    </tr>\n",
       "    <tr>\n",
       "      <th>1</th>\n",
       "      <td>2020-08</td>\n",
       "      <td>0.075585</td>\n",
       "    </tr>\n",
       "    <tr>\n",
       "      <th>2</th>\n",
       "      <td>2020-09</td>\n",
       "      <td>0.074604</td>\n",
       "    </tr>\n",
       "    <tr>\n",
       "      <th>3</th>\n",
       "      <td>2020-10</td>\n",
       "      <td>0.075651</td>\n",
       "    </tr>\n",
       "    <tr>\n",
       "      <th>4</th>\n",
       "      <td>2020-11</td>\n",
       "      <td>0.074389</td>\n",
       "    </tr>\n",
       "  </tbody>\n",
       "</table>\n",
       "</div>"
      ],
      "text/plain": [
       "     Month  RollingAvgProfitMargin\n",
       "0  2020-07                0.073057\n",
       "1  2020-08                0.075585\n",
       "2  2020-09                0.074604\n",
       "3  2020-10                0.075651\n",
       "4  2020-11                0.074389"
      ]
     },
     "execution_count": 27,
     "metadata": {},
     "output_type": "execute_result"
    }
   ],
   "source": [
    "query = \"SELECT Month, RollingAvgProfitMargin FROM MonthlyRollingProfitMargin\"\n",
    "rolling_margin_df = pd.read_sql(query, engine)\n",
    "rolling_margin_df.head()"
   ]
  },
  {
   "cell_type": "code",
   "execution_count": 30,
   "id": "9bd8cab9-db4c-4c5e-897f-5fdbb80d3098",
   "metadata": {},
   "outputs": [
    {
     "data": {
      "image/png": "[encoded data removed]",
      "text/plain": [
       "<Figure size 1200x600 with 1 Axes>"
      ]
     },
     "metadata": {},
     "output_type": "display_data"
    }
   ],
   "source": [
    "plt.figure(figsize=(12, 6))\n",
    "plt.plot(rolling_margin_df['Month'], rolling_margin_df['RollingAvgProfitMargin'], label='Rolling Avg Profit Margin', color='blue')\n",
    "plt.title('Monthly Rolling Average of Profit Margin', fontsize=16)\n",
    "plt.xlabel('Month', fontsize=12)\n",
    "plt.ylabel('Rolling Avg Profit Margin', fontsize=12)\n",
    "plt.xticks(rotation=45)\n",
    "plt.grid(True)\n",
    "plt.legend(fontsize=12)\n",
    "plt.tight_layout()\n",
    "plt.show()"
   ]
  },
  {
   "cell_type": "markdown",
   "id": "54cdd6e7-2ed6-4886-bba6-2facec89c737",
   "metadata": {},
   "source": [
    "The graph reveals the overall trend of profit margins rising in the months of june to october, and dipping in the other months. From 2020 to 2023, the year 2022 experienced the highest profit margins.\n"
   ]
  },
  {
   "cell_type": "code",
   "execution_count": 21,
   "id": "2468316c-f046-4172-9f47-31bebb204df4",
   "metadata": {},
   "outputs": [
    {
     "data": {
      "text/html": [
       "<div>\n",
       "<style scoped>\n",
       "    .dataframe tbody tr th:only-of-type {\n",
       "        vertical-align: middle;\n",
       "    }\n",
       "\n",
       "    .dataframe tbody tr th {\n",
       "        vertical-align: top;\n",
       "    }\n",
       "\n",
       "    .dataframe thead th {\n",
       "        text-align: right;\n",
       "    }\n",
       "</style>\n",
       "<table border=\"1\" class=\"dataframe\">\n",
       "  <thead>\n",
       "    <tr style=\"text-align: right;\">\n",
       "      <th></th>\n",
       "      <th>Age</th>\n",
       "      <th>AnnualIncome</th>\n",
       "      <th>SpendingScore</th>\n",
       "      <th>ProductPrice</th>\n",
       "      <th>DiscountApplied</th>\n",
       "      <th>DiscountPercent</th>\n",
       "      <th>ProductCost</th>\n",
       "      <th>Profit</th>\n",
       "      <th>FootTraffic</th>\n",
       "      <th>InventoryLevel</th>\n",
       "      <th>MarketingExpenditure</th>\n",
       "      <th>CompetitorPrice</th>\n",
       "    </tr>\n",
       "  </thead>\n",
       "  <tbody>\n",
       "    <tr>\n",
       "      <th>0</th>\n",
       "      <td>58</td>\n",
       "      <td>60038</td>\n",
       "      <td>41</td>\n",
       "      <td>147.43</td>\n",
       "      <td>1.0</td>\n",
       "      <td>26</td>\n",
       "      <td>109.10</td>\n",
       "      <td>38.33</td>\n",
       "      <td>336</td>\n",
       "      <td>26</td>\n",
       "      <td>9107.90</td>\n",
       "      <td>171.55</td>\n",
       "    </tr>\n",
       "    <tr>\n",
       "      <th>1</th>\n",
       "      <td>57</td>\n",
       "      <td>31577</td>\n",
       "      <td>91</td>\n",
       "      <td>402.09</td>\n",
       "      <td>1.0</td>\n",
       "      <td>1</td>\n",
       "      <td>398.07</td>\n",
       "      <td>4.02</td>\n",
       "      <td>491</td>\n",
       "      <td>32</td>\n",
       "      <td>1746.77</td>\n",
       "      <td>419.19</td>\n",
       "    </tr>\n",
       "    <tr>\n",
       "      <th>2</th>\n",
       "      <td>39</td>\n",
       "      <td>117404</td>\n",
       "      <td>26</td>\n",
       "      <td>958.45</td>\n",
       "      <td>0.0</td>\n",
       "      <td>0</td>\n",
       "      <td>958.45</td>\n",
       "      <td>0.00</td>\n",
       "      <td>157</td>\n",
       "      <td>3</td>\n",
       "      <td>2030.49</td>\n",
       "      <td>835.92</td>\n",
       "    </tr>\n",
       "    <tr>\n",
       "      <th>3</th>\n",
       "      <td>33</td>\n",
       "      <td>87434</td>\n",
       "      <td>94</td>\n",
       "      <td>544.17</td>\n",
       "      <td>0.0</td>\n",
       "      <td>0</td>\n",
       "      <td>544.17</td>\n",
       "      <td>0.00</td>\n",
       "      <td>223</td>\n",
       "      <td>87</td>\n",
       "      <td>6242.68</td>\n",
       "      <td>620.36</td>\n",
       "    </tr>\n",
       "    <tr>\n",
       "      <th>4</th>\n",
       "      <td>18</td>\n",
       "      <td>90225</td>\n",
       "      <td>10</td>\n",
       "      <td>645.75</td>\n",
       "      <td>0.0</td>\n",
       "      <td>0</td>\n",
       "      <td>645.75</td>\n",
       "      <td>0.00</td>\n",
       "      <td>315</td>\n",
       "      <td>8</td>\n",
       "      <td>6008.89</td>\n",
       "      <td>600.49</td>\n",
       "    </tr>\n",
       "  </tbody>\n",
       "</table>\n",
       "</div>"
      ],
      "text/plain": [
       "   Age  AnnualIncome  SpendingScore  ProductPrice  DiscountApplied  \\\n",
       "0   58         60038             41        147.43              1.0   \n",
       "1   57         31577             91        402.09              1.0   \n",
       "2   39        117404             26        958.45              0.0   \n",
       "3   33         87434             94        544.17              0.0   \n",
       "4   18         90225             10        645.75              0.0   \n",
       "\n",
       "   DiscountPercent  ProductCost  Profit  FootTraffic  InventoryLevel  \\\n",
       "0               26       109.10   38.33          336              26   \n",
       "1                1       398.07    4.02          491              32   \n",
       "2                0       958.45    0.00          157               3   \n",
       "3                0       544.17    0.00          223              87   \n",
       "4                0       645.75    0.00          315               8   \n",
       "\n",
       "   MarketingExpenditure  CompetitorPrice  \n",
       "0               9107.90           171.55  \n",
       "1               1746.77           419.19  \n",
       "2               2030.49           835.92  \n",
       "3               6242.68           620.36  \n",
       "4               6008.89           600.49  "
      ]
     },
     "execution_count": 21,
     "metadata": {},
     "output_type": "execute_result"
    }
   ],
   "source": [
    "query = \"SELECT * FROM numerical_data\"\n",
    "numerical_df = pd.read_sql(query, engine)\n",
    "numerical_df.head()"
   ]
  },
  {
   "cell_type": "markdown",
   "id": "b3dc90ba-44fd-4ea8-9ecf-a5490aed2337",
   "metadata": {},
   "source": [
    "To end this project, I'd like to zoom out of things. We have analyzed many individual relationships between the columns in the retail_data dataset. However, it is easy to get lost in the details and lose track of the big picture. As the last visual of the project, I've included a correlation matrix of all the numerical data in the dataset. Evidentally, there is still much to be explored and learned from this dataset. I hope that my analysis has allowed you to gain a deeper understanding of the dataset or of certain microeconomics concepts. The purpose of the correlation matrix is to encourage you to question both the dataset and my findings. Perhaps the correlation coefficients don't quite match up to the conclusions we reached. Maybe we haven't explored some of these relationships, and the correlation coefficients confuse you. As my first project, my work cannot be said to be flawless. I wasn't able to import as many records as I wanted to, some categories were suspiciously derived, and navigating between MySQL and Jupyter Notebook was time-consuming. However, there were also many positives. The dataset had a variety of interesting and useful columns, allowing me to experiment with a multitude of visualizations. Namely, I was able to use choropleth maps, correlation matrices, and multiple line graphs. I hope to explore more of these relationships in a future project, possibly with a different dataset."
   ]
  },
  {
   "cell_type": "code",
   "execution_count": 22,
   "id": "315e890e-a608-45ee-81ee-3bd8f81ad92f",
   "metadata": {},
   "outputs": [
    {
     "data": {
      "image/png": "[encoded data removed]",
      "text/plain": [
       "<Figure size 1200x800 with 2 Axes>"
      ]
     },
     "metadata": {},
     "output_type": "display_data"
    }
   ],
   "source": [
    "# Calculating correlation matrix (explain what it is, correlation coefficient)\n",
    "correlation_matrix = numerical_df.corr()\n",
    "plt.figure(figsize=(12,8))\n",
    "sns.heatmap(\n",
    "    correlation_matrix,\n",
    "    annot=True,\n",
    "    fmt=\".2f\",\n",
    "    cmap=\"coolwarm\",\n",
    "    cbar=True,\n",
    "    linewidths=0.5\n",
    ")\n",
    "plt.title(\"Correlation Matrix of Numerical Retail Data\", fontsize=16)\n",
    "plt.show()"
   ]
  }
 ],
 "metadata": {
  "kernelspec": {
   "display_name": "Python 3 (ipykernel)",
   "language": "python",
   "name": "python3"
  },
  "language_info": {
   "codemirror_mode": {
    "name": "ipython",
    "version": 3
   },
   "file_extension": ".py",
   "mimetype": "text/x-python",
   "name": "python",
   "nbconvert_exporter": "python",
   "pygments_lexer": "ipython3",
   "version": "3.13.1"
  }
 },
 "nbformat": 4,
 "nbformat_minor": 5
}
